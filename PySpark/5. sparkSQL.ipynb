{
 "cells": [
  {
   "cell_type": "markdown",
   "id": "07a1f15d",
   "metadata": {},
   "source": [
    "### SparkSQL\n",
    "- Spark가 지원하는 Spark 전용 SQL"
   ]
  },
  {
   "cell_type": "markdown",
   "id": "eed79223",
   "metadata": {},
   "source": [
    "#### .createOrReplaceTempView(뷰이름)\n",
    "#### .createTempView(뷰이름)\n",
    "- SQL statement를 실행하기 위하여 DataFrame을 뷰(가상 테이블)로 변환\n",
    "- 해당 뷰는 sparksession이 실행되는 동안 존재\n",
    "- 해당 뷰의 삭제 : spark.catalog.dropTempView(\"name\")"
   ]
  },
  {
   "cell_type": "markdown",
   "id": "b97cae19",
   "metadata": {},
   "source": [
    "#### .createGlobalTempView\n",
    "- 해당 뷰는 spark이 실행되는 동안 존재\n",
    "- 해당 뷰의 삭제 : spark.catalog.dropGlobalTempView(\"name\")\n",
    "\n",
    "-> .registerTempTable을 대체"
   ]
  },
  {
   "cell_type": "code",
   "execution_count": 1,
   "id": "46cfaad6",
   "metadata": {},
   "outputs": [],
   "source": [
    "import findspark"
   ]
  },
  {
   "cell_type": "code",
   "execution_count": 2,
   "id": "bb020da4",
   "metadata": {},
   "outputs": [],
   "source": [
    "findspark.init()"
   ]
  },
  {
   "cell_type": "code",
   "execution_count": 3,
   "id": "d5c41039",
   "metadata": {},
   "outputs": [],
   "source": [
    "import pyspark"
   ]
  },
  {
   "cell_type": "code",
   "execution_count": 4,
   "id": "e58bf566",
   "metadata": {},
   "outputs": [],
   "source": [
    "import pyspark.sql"
   ]
  },
  {
   "cell_type": "code",
   "execution_count": 5,
   "id": "33687a4b",
   "metadata": {},
   "outputs": [],
   "source": [
    "from pyspark.sql import SparkSession"
   ]
  },
  {
   "cell_type": "code",
   "execution_count": 6,
   "id": "d09b42c6",
   "metadata": {},
   "outputs": [],
   "source": [
    "spark = SparkSession.builder.master(\"local\").getOrCreate()"
   ]
  },
  {
   "cell_type": "code",
   "execution_count": 8,
   "id": "c997082b",
   "metadata": {},
   "outputs": [],
   "source": [
    "sc = spark.sparkContext"
   ]
  },
  {
   "cell_type": "code",
   "execution_count": 9,
   "id": "2d0f9c81",
   "metadata": {},
   "outputs": [],
   "source": [
    "linesDF = spark  \\\n",
    ".read  \\\n",
    ".format(\"csv\")  \\\n",
    ".option(\"encoding\", \"EUC-kr\")  \\\n",
    ".option(\"sep\", \"\\n\")  \\\n",
    ".load(\"C://spark/data/review.txt\")"
   ]
  },
  {
   "cell_type": "code",
   "execution_count": 10,
   "id": "b28401b8",
   "metadata": {},
   "outputs": [],
   "source": [
    "import re"
   ]
  },
  {
   "cell_type": "code",
   "execution_count": 13,
   "id": "f939b0ae",
   "metadata": {},
   "outputs": [],
   "source": [
    "wcRDD = linesDF  \\\n",
    ".rdd  \\\n",
    ".map(lambda line: line[0])  \\\n",
    ".flatMap(lambda line: re.split(\"\\W+\", line))  \\\n",
    ".filter(lambda word: len(word) > 0)  \\\n",
    ".map(lambda word: (word, 1))  \\\n",
    ".reduceByKey(lambda v1, v2: v1 + v2)  \\\n",
    ".sortBy(lambda wc: wc[1], False)"
   ]
  },
  {
   "cell_type": "code",
   "execution_count": 14,
   "id": "62cc7f4b",
   "metadata": {},
   "outputs": [],
   "source": [
    "wc50RDD = sc.parallelize(wcRDD.take(50))"
   ]
  },
  {
   "cell_type": "code",
   "execution_count": 15,
   "id": "234faac8",
   "metadata": {},
   "outputs": [],
   "source": [
    "wc50DF = spark.createDataFrame(wc50RDD)"
   ]
  },
  {
   "cell_type": "code",
   "execution_count": 16,
   "id": "88dae6fd",
   "metadata": {},
   "outputs": [
    {
     "name": "stdout",
     "output_type": "stream",
     "text": [
      "+----+----+\n",
      "|  _1|  _2|\n",
      "+----+----+\n",
      "|영화|1346|\n",
      "|너무| 898|\n",
      "|정말| 698|\n",
      "+----+----+\n",
      "only showing top 3 rows\n",
      "\n"
     ]
    }
   ],
   "source": [
    "wc50DF.show(3)"
   ]
  },
  {
   "cell_type": "code",
   "execution_count": 23,
   "id": "14d5e3b1",
   "metadata": {},
   "outputs": [],
   "source": [
    "wc50DF.createOrReplaceTempView(\"wcTable\")"
   ]
  },
  {
   "cell_type": "code",
   "execution_count": 24,
   "id": "7cf8d630",
   "metadata": {},
   "outputs": [],
   "source": [
    "wcDFlength = spark.sql(\"select _1 as words, _2 as freq, length(_1) as wordLen from wcTable\")"
   ]
  },
  {
   "cell_type": "code",
   "execution_count": 25,
   "id": "45fda400",
   "metadata": {},
   "outputs": [
    {
     "name": "stdout",
     "output_type": "stream",
     "text": [
      "+-----+----+-------+\n",
      "|words|freq|wordLen|\n",
      "+-----+----+-------+\n",
      "| 영화|1346|      2|\n",
      "| 너무| 898|      2|\n",
      "| 정말| 698|      2|\n",
      "+-----+----+-------+\n",
      "only showing top 3 rows\n",
      "\n"
     ]
    }
   ],
   "source": [
    "wcDFlength.show(3)"
   ]
  },
  {
   "cell_type": "code",
   "execution_count": 26,
   "id": "4bf34227",
   "metadata": {},
   "outputs": [],
   "source": [
    "wcDFlength.createOrReplaceTempView(\"wcDFlengthTable\")"
   ]
  },
  {
   "cell_type": "markdown",
   "id": "f8148d33",
   "metadata": {},
   "source": [
    "단어길이별 평균 발생빈도를 계산해서 긴 단어와 짧은 단어 중 어떤 것이 많이 나타나는지의 차이가 있는가를 검증"
   ]
  },
  {
   "cell_type": "code",
   "execution_count": 27,
   "id": "418d2b83",
   "metadata": {},
   "outputs": [],
   "source": [
    "wordLengthFrequency = spark.sql(\"select wordLen, count(freq), avg(freq)  \\\n",
    "                                 from wcDFlengthTable  \\\n",
    "                                 group by wordLen  \\\n",
    "                                 order by wordLen\")"
   ]
  },
  {
   "cell_type": "code",
   "execution_count": 28,
   "id": "878b40cf",
   "metadata": {},
   "outputs": [
    {
     "name": "stdout",
     "output_type": "stream",
     "text": [
      "+-----+\n",
      "|words|\n",
      "+-----+\n",
      "|   것|\n",
      "|   그|\n",
      "|   꼭|\n",
      "|   다|\n",
      "|   더|\n",
      "|   또|\n",
      "|   본|\n",
      "|   수|\n",
      "|   이|\n",
      "|   잘|\n",
      "|   좀|\n",
      "|   한|\n",
      "+-----+\n",
      "\n"
     ]
    }
   ],
   "source": [
    "spark.sql(\"select words  \\\n",
    "           from wcDFlengthTable  \\\n",
    "           where wordLen = 1  \\\n",
    "           order by words\").show()"
   ]
  },
  {
   "cell_type": "code",
   "execution_count": 29,
   "id": "3346928b",
   "metadata": {},
   "outputs": [
    {
     "name": "stdout",
     "output_type": "stream",
     "text": [
      "+-----+----+\n",
      "|words|freq|\n",
      "+-----+----+\n",
      "|   것| 150|\n",
      "|   그| 213|\n",
      "|   꼭| 285|\n",
      "|   다| 179|\n",
      "|   더| 342|\n",
      "|   또| 129|\n",
      "|   본| 154|\n",
      "|   수| 277|\n",
      "|   이| 255|\n",
      "|   잘| 518|\n",
      "|   좀| 209|\n",
      "|   한| 197|\n",
      "+-----+----+\n",
      "\n"
     ]
    }
   ],
   "source": [
    "spark.sql(\"select words, freq  \\\n",
    "           from wcDFlengthTable  \\\n",
    "           where wordLen = 1  \\\n",
    "           order by words\").show()"
   ]
  },
  {
   "cell_type": "markdown",
   "id": "171a308f",
   "metadata": {},
   "source": [
    "단어 길이별 평균 프리컨시와 발생빈도를 그래프로 표시"
   ]
  },
  {
   "cell_type": "code",
   "execution_count": 30,
   "id": "b4eff7bd",
   "metadata": {},
   "outputs": [],
   "source": [
    "import numpy as np"
   ]
  },
  {
   "cell_type": "code",
   "execution_count": 31,
   "id": "5af9b0b9",
   "metadata": {},
   "outputs": [],
   "source": [
    "import matplotlib.pyplot as plt"
   ]
  },
  {
   "cell_type": "code",
   "execution_count": 32,
   "id": "48249a1f",
   "metadata": {},
   "outputs": [],
   "source": [
    "x = wordLengthFrequency.select(F.col(\"wordLen\")).collect()"
   ]
  },
  {
   "cell_type": "code",
   "execution_count": 33,
   "id": "ed69393c",
   "metadata": {},
   "outputs": [
    {
     "data": {
      "text/plain": [
       "list"
      ]
     },
     "execution_count": 33,
     "metadata": {},
     "output_type": "execute_result"
    }
   ],
   "source": [
    "type(x)"
   ]
  },
  {
   "cell_type": "code",
   "execution_count": 34,
   "id": "69b47208",
   "metadata": {},
   "outputs": [
    {
     "name": "stdout",
     "output_type": "stream",
     "text": [
      "Row(wordLen=1)\n",
      "Row(wordLen=2)\n",
      "Row(wordLen=3)\n",
      "Row(wordLen=4)\n",
      "Row(wordLen=5)\n"
     ]
    }
   ],
   "source": [
    "for e in x:\n",
    "    print(e)"
   ]
  },
  {
   "cell_type": "code",
   "execution_count": 35,
   "id": "9df7ef11",
   "metadata": {},
   "outputs": [],
   "source": [
    "xA = np.array(x)"
   ]
  },
  {
   "cell_type": "code",
   "execution_count": 36,
   "id": "286b70ae",
   "metadata": {},
   "outputs": [
    {
     "data": {
      "text/plain": [
       "array([[1],\n",
       "       [2]])"
      ]
     },
     "execution_count": 36,
     "metadata": {},
     "output_type": "execute_result"
    }
   ],
   "source": [
    "xA[0:2]"
   ]
  },
  {
   "cell_type": "code",
   "execution_count": 39,
   "id": "4b73b905",
   "metadata": {},
   "outputs": [],
   "source": [
    "xA1 = np.ravel(xA)"
   ]
  },
  {
   "cell_type": "code",
   "execution_count": 40,
   "id": "faebae16",
   "metadata": {},
   "outputs": [
    {
     "data": {
      "text/plain": [
       "array([1, 2])"
      ]
     },
     "execution_count": 40,
     "metadata": {},
     "output_type": "execute_result"
    }
   ],
   "source": [
    "xA1[0:2]"
   ]
  },
  {
   "cell_type": "code",
   "execution_count": 41,
   "id": "abdf6c2c",
   "metadata": {},
   "outputs": [],
   "source": [
    "y1 = wordLengthFrequency.select(F.col(\"count(freq)\")).collect()"
   ]
  },
  {
   "cell_type": "code",
   "execution_count": 42,
   "id": "7f447a94",
   "metadata": {},
   "outputs": [
    {
     "data": {
      "text/plain": [
       "[Row(count(freq)=12), Row(count(freq)=17)]"
      ]
     },
     "execution_count": 42,
     "metadata": {},
     "output_type": "execute_result"
    }
   ],
   "source": [
    "y1[0:2]"
   ]
  },
  {
   "cell_type": "code",
   "execution_count": 43,
   "id": "514e45a0",
   "metadata": {},
   "outputs": [],
   "source": [
    "y1A = np.array(y1)"
   ]
  },
  {
   "cell_type": "code",
   "execution_count": 44,
   "id": "979f10ad",
   "metadata": {},
   "outputs": [
    {
     "data": {
      "text/plain": [
       "2"
      ]
     },
     "execution_count": 44,
     "metadata": {},
     "output_type": "execute_result"
    }
   ],
   "source": [
    "y1A.ndim"
   ]
  },
  {
   "cell_type": "code",
   "execution_count": 54,
   "id": "0489eaf6",
   "metadata": {},
   "outputs": [],
   "source": [
    "y1A1 = np.ravel(y1A)"
   ]
  },
  {
   "cell_type": "code",
   "execution_count": 46,
   "id": "aac14c96",
   "metadata": {},
   "outputs": [],
   "source": [
    "y2 = wordLengthFrequency.select(F.col(\"avg(freq)\")).collect()"
   ]
  },
  {
   "cell_type": "code",
   "execution_count": 47,
   "id": "62b3ef63",
   "metadata": {},
   "outputs": [],
   "source": [
    "y2A = np.array(y2)"
   ]
  },
  {
   "cell_type": "code",
   "execution_count": 49,
   "id": "649e7f71",
   "metadata": {},
   "outputs": [],
   "source": [
    "y2A1 = np.ravel(y2A)"
   ]
  },
  {
   "cell_type": "code",
   "execution_count": 50,
   "id": "ca967e00",
   "metadata": {},
   "outputs": [],
   "source": [
    "from matplotlib import font_manager"
   ]
  },
  {
   "cell_type": "code",
   "execution_count": null,
   "id": "670e7e10",
   "metadata": {},
   "outputs": [],
   "source": []
  },
  {
   "cell_type": "code",
   "execution_count": 56,
   "id": "c89d45ca",
   "metadata": {},
   "outputs": [
    {
     "name": "stderr",
     "output_type": "stream",
     "text": [
      "No handles with labels found to put in legend.\n"
     ]
    },
    {
     "data": {
      "image/png": "[encoded data removed]",
      "text/plain": [
       "<Figure size 432x288 with 1 Axes>"
      ]
     },
     "metadata": {
      "needs_background": "light"
     },
     "output_type": "display_data"
    }
   ],
   "source": [
    "plt.bar(xA1, y1A1, color=\"green\")\n",
    "plt.plot(xA1, y2A1, marker='*', color='red')\n",
    "plt.legend()\n",
    "plt.xlabel(\"Word Length\")\n",
    "plt.xticks(range(1,11))\n",
    "plt.grid(True)\n",
    "plt.legend(['average frequency', 'count'])\n",
    "plt.show()"
   ]
  },
  {
   "cell_type": "code",
   "execution_count": null,
   "id": "16842e37",
   "metadata": {},
   "outputs": [],
   "source": []
  },
  {
   "cell_type": "code",
   "execution_count": null,
   "id": "5ce1f84a",
   "metadata": {},
   "outputs": [],
   "source": []
  }
 ],
 "metadata": {
  "kernelspec": {
   "display_name": "Python 3",
   "language": "python",
   "name": "python3"
  },
  "language_info": {
   "codemirror_mode": {
    "name": "ipython",
    "version": 3
   },
   "file_extension": ".py",
   "mimetype": "text/x-python",
   "name": "python",
   "nbconvert_exporter": "python",
   "pygments_lexer": "ipython3",
   "version": "3.8.8"
  }
 },
 "nbformat": 4,
 "nbformat_minor": 5
}
