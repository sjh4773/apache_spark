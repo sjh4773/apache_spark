{
 "cells": [
  {
   "cell_type": "markdown",
   "id": "95a3d459",
   "metadata": {},
   "source": [
    "### DataFrame 생성 방법\n",
    "1. Sparksession을 통하여\n",
    "    - 외부 파일을 읽어 들일 때 SparkSession을 통하여 DataFrame으로 읽어들임\n",
    "    - Spark SQL 쿼리를 실행하여 다른 DataFrame으로 변환\n",
    "2. Rdd로부터 변환\n",
    "    - SparkContext에서 RDD를 생성\n",
    "    - RDD를 DataFrame으로 변환"
   ]
  },
  {
   "cell_type": "code",
   "execution_count": 1,
   "id": "d7d0196c",
   "metadata": {},
   "outputs": [],
   "source": [
    "import findspark"
   ]
  },
  {
   "cell_type": "code",
   "execution_count": 2,
   "id": "51778568",
   "metadata": {},
   "outputs": [],
   "source": [
    "findspark.init()"
   ]
  },
  {
   "cell_type": "code",
   "execution_count": 3,
   "id": "096a2f4d",
   "metadata": {},
   "outputs": [],
   "source": [
    "import pyspark"
   ]
  },
  {
   "cell_type": "code",
   "execution_count": 4,
   "id": "c638860a",
   "metadata": {},
   "outputs": [],
   "source": [
    "import pyspark.sql"
   ]
  },
  {
   "cell_type": "code",
   "execution_count": 5,
   "id": "8554fdef",
   "metadata": {},
   "outputs": [],
   "source": [
    "from pyspark.sql import SparkSession"
   ]
  },
  {
   "cell_type": "code",
   "execution_count": 6,
   "id": "ae0f1141",
   "metadata": {},
   "outputs": [],
   "source": [
    "spark = SparkSession.builder.master(\"local\").getOrCreate()"
   ]
  },
  {
   "cell_type": "code",
   "execution_count": 11,
   "id": "0f12f214",
   "metadata": {},
   "outputs": [],
   "source": [
    "menuDF = spark  \\\n",
    "         .read   \\\n",
    "         .format(\"csv\")  \\\n",
    "         .option(\"header\",\"true\")  \\\n",
    "         .option(\"inferSchema\", \"true\")  \\\n",
    "         .load(\"C://spark/data/menu.csv\")"
   ]
  },
  {
   "cell_type": "code",
   "execution_count": 12,
   "id": "cd972854",
   "metadata": {},
   "outputs": [
    {
     "name": "stdout",
     "output_type": "stream",
     "text": [
      "root\n",
      " |-- Category: string (nullable = true)\n",
      " |-- Item: string (nullable = true)\n",
      " |-- Serving Size: string (nullable = true)\n",
      " |-- Calories: integer (nullable = true)\n",
      " |-- Calories from Fat: integer (nullable = true)\n",
      " |-- Total Fat: double (nullable = true)\n",
      " |-- Total Fat (% Daily Value): integer (nullable = true)\n",
      " |-- Saturated Fat: double (nullable = true)\n",
      " |-- Saturated Fat (% Daily Value): integer (nullable = true)\n",
      " |-- Trans Fat: double (nullable = true)\n",
      " |-- Cholesterol: integer (nullable = true)\n",
      " |-- Cholesterol (% Daily Value): integer (nullable = true)\n",
      " |-- Sodium: integer (nullable = true)\n",
      " |-- Sodium (% Daily Value): integer (nullable = true)\n",
      " |-- Carbohydrates: integer (nullable = true)\n",
      " |-- Carbohydrates (% Daily Value): integer (nullable = true)\n",
      " |-- Dietary Fiber: integer (nullable = true)\n",
      " |-- Dietary Fiber (% Daily Value): integer (nullable = true)\n",
      " |-- Sugars: integer (nullable = true)\n",
      " |-- Protein: integer (nullable = true)\n",
      " |-- Vitamin A (% Daily Value): integer (nullable = true)\n",
      " |-- Vitamin C (% Daily Value): integer (nullable = true)\n",
      " |-- Calcium (% Daily Value): integer (nullable = true)\n",
      " |-- Iron (% Daily Value): integer (nullable = true)\n",
      "\n"
     ]
    }
   ],
   "source": [
    "menuDF.printSchema()"
   ]
  },
  {
   "cell_type": "code",
   "execution_count": 13,
   "id": "bb0b3638",
   "metadata": {},
   "outputs": [
    {
     "name": "stdout",
     "output_type": "stream",
     "text": [
      "+---------+--------------------+--------------+--------+-----------------+---------+-------------------------+-------------+-----------------------------+---------+-----------+---------------------------+------+----------------------+-------------+-----------------------------+-------------+-----------------------------+------+-------+-------------------------+-------------------------+-----------------------+--------------------+\n",
      "| Category|                Item|  Serving Size|Calories|Calories from Fat|Total Fat|Total Fat (% Daily Value)|Saturated Fat|Saturated Fat (% Daily Value)|Trans Fat|Cholesterol|Cholesterol (% Daily Value)|Sodium|Sodium (% Daily Value)|Carbohydrates|Carbohydrates (% Daily Value)|Dietary Fiber|Dietary Fiber (% Daily Value)|Sugars|Protein|Vitamin A (% Daily Value)|Vitamin C (% Daily Value)|Calcium (% Daily Value)|Iron (% Daily Value)|\n",
      "+---------+--------------------+--------------+--------+-----------------+---------+-------------------------+-------------+-----------------------------+---------+-----------+---------------------------+------+----------------------+-------------+-----------------------------+-------------+-----------------------------+------+-------+-------------------------+-------------------------+-----------------------+--------------------+\n",
      "|Breakfast|        Egg McMuffin|4.8 oz (136 g)|     300|              120|     13.0|                       20|          5.0|                           25|      0.0|        260|                         87|   750|                    31|           31|                           10|            4|                           17|     3|     17|                       10|                        0|                     25|                  15|\n",
      "|Breakfast|   Egg White Delight|4.8 oz (135 g)|     250|               70|      8.0|                       12|          3.0|                           15|      0.0|         25|                          8|   770|                    32|           30|                           10|            4|                           17|     3|     18|                        6|                        0|                     25|                   8|\n",
      "|Breakfast|    Sausage McMuffin|3.9 oz (111 g)|     370|              200|     23.0|                       35|          8.0|                           42|      0.0|         45|                         15|   780|                    33|           29|                           10|            4|                           17|     2|     14|                        8|                        0|                     25|                  10|\n",
      "|Breakfast|Sausage McMuffin ...|5.7 oz (161 g)|     450|              250|     28.0|                       43|         10.0|                           52|      0.0|        285|                         95|   860|                    36|           30|                           10|            4|                           17|     2|     21|                       15|                        0|                     30|                  15|\n",
      "|Breakfast|Sausage McMuffin ...|5.7 oz (161 g)|     400|              210|     23.0|                       35|          8.0|                           42|      0.0|         50|                         16|   880|                    37|           30|                           10|            4|                           17|     2|     21|                        6|                        0|                     25|                  10|\n",
      "|Breakfast|Steak & Egg McMuffin|6.5 oz (185 g)|     430|              210|     23.0|                       36|          9.0|                           46|      1.0|        300|                        100|   960|                    40|           31|                           10|            4|                           18|     3|     26|                       15|                        2|                     30|                  20|\n",
      "|Breakfast|Bacon, Egg & Chee...|5.3 oz (150 g)|     460|              230|     26.0|                       40|         13.0|                           65|      0.0|        250|                         83|  1300|                    54|           38|                           13|            2|                            7|     3|     19|                       10|                        8|                     15|                  15|\n",
      "|Breakfast|Bacon, Egg & Chee...|5.8 oz (164 g)|     520|              270|     30.0|                       47|         14.0|                           68|      0.0|        250|                         83|  1410|                    59|           43|                           14|            3|                           12|     4|     19|                       15|                        8|                     20|                  20|\n",
      "|Breakfast|Bacon, Egg & Chee...|5.4 oz (153 g)|     410|              180|     20.0|                       32|         11.0|                           56|      0.0|         35|                         11|  1300|                    54|           36|                           12|            2|                            7|     3|     20|                        2|                        8|                     15|                  10|\n",
      "|Breakfast|Bacon, Egg & Chee...|5.9 oz (167 g)|     470|              220|     25.0|                       38|         12.0|                           59|      0.0|         35|                         11|  1420|                    59|           42|                           14|            3|                           12|     4|     20|                        6|                        8|                     15|                  15|\n",
      "|Breakfast|Sausage Biscuit (...|4.1 oz (117 g)|     430|              240|     27.0|                       42|         12.0|                           62|      0.0|         30|                         10|  1080|                    45|           34|                           11|            2|                            6|     2|     11|                        0|                        0|                      6|                  15|\n",
      "|Breakfast|Sausage Biscuit (...|4.6 oz (131 g)|     480|              280|     31.0|                       48|         13.0|                           65|      0.0|         30|                         10|  1190|                    50|           39|                           13|            3|                           11|     3|     11|                        4|                        0|                      8|                  15|\n",
      "|Breakfast|Sausage Biscuit w...|5.7 oz (163 g)|     510|              290|     33.0|                       50|         14.0|                           71|      0.0|        250|                         83|  1170|                    49|           36|                           12|            2|                            6|     2|     18|                        6|                        0|                     10|                  20|\n",
      "|Breakfast|Sausage Biscuit w...|6.2 oz (177 g)|     570|              330|     37.0|                       57|         15.0|                           74|      0.0|        250|                         83|  1280|                    53|           42|                           14|            3|                           11|     3|     18|                       10|                        0|                     10|                  20|\n",
      "|Breakfast|Sausage Biscuit w...|5.9 oz (167 g)|     460|              250|     27.0|                       42|         12.0|                           62|      0.0|         35|                         11|  1180|                    49|           34|                           11|            2|                            6|     3|     18|                        0|                        0|                      8|                  15|\n",
      "|Breakfast|Sausage Biscuit w...|6.4 oz (181 g)|     520|              280|     32.0|                       49|         13.0|                           65|      0.0|         35|                         11|  1290|                    54|           40|                           13|            3|                           11|     3|     18|                        4|                        0|                      8|                  15|\n",
      "|Breakfast|Southern Style Ch...|  5 oz (143 g)|     410|              180|     20.0|                       31|          8.0|                           41|      0.0|         30|                         10|  1180|                    49|           41|                           14|            2|                            6|     3|     17|                        0|                        2|                      6|                  15|\n",
      "|Breakfast|Southern Style Ch...|5.5 oz (157 g)|     470|              220|     24.0|                       37|          9.0|                           45|      0.0|         30|                         10|  1290|                    54|           46|                           15|            3|                           11|     4|     17|                        4|                        2|                      8|                  15|\n",
      "|Breakfast|Steak & Egg Biscu...|7.1 oz (201 g)|     540|              290|     32.0|                       49|         16.0|                           78|      1.0|        280|                         93|  1470|                    61|           38|                           13|            2|                            8|     3|     25|                       10|                        2|                     20|                  25|\n",
      "|Breakfast|Bacon, Egg & Chee...|6.1 oz (174 g)|     460|              190|     21.0|                       32|          9.0|                           44|      0.0|        250|                         84|  1250|                    52|           48|                           16|            2|                            9|    15|     19|                       10|                       10|                     20|                  15|\n",
      "+---------+--------------------+--------------+--------+-----------------+---------+-------------------------+-------------+-----------------------------+---------+-----------+---------------------------+------+----------------------+-------------+-----------------------------+-------------+-----------------------------+------+-------+-------------------------+-------------------------+-----------------------+--------------------+\n",
      "only showing top 20 rows\n",
      "\n"
     ]
    }
   ],
   "source": [
    "menuDF.show()"
   ]
  },
  {
   "cell_type": "markdown",
   "id": "6a9c49f9",
   "metadata": {},
   "source": [
    "- RDD를 DataFrame으로 변환\n",
    "    - sparkSession의 createDataFrame 사용"
   ]
  },
  {
   "cell_type": "markdown",
   "id": "c8fab186",
   "metadata": {},
   "source": [
    "### DataFrame 스키마 관련 기본 함수들\n",
    "- printSchema() : 스키마를 출력\n",
    "- show(n) : 처음 (n)행을 출력\n",
    "- withColumnRenamed(현컬럼명, 새컬럼명) : 현 컬럼의 이름을 새 컬럼 이름으로 변경"
   ]
  },
  {
   "cell_type": "code",
   "execution_count": 14,
   "id": "251377cd",
   "metadata": {},
   "outputs": [],
   "source": [
    "sc = spark.sparkContext"
   ]
  },
  {
   "cell_type": "code",
   "execution_count": 16,
   "id": "2efe6dd5",
   "metadata": {},
   "outputs": [],
   "source": [
    "linesDF = spark  \\\n",
    "          .read  \\\n",
    "          .format(\"csv\")  \\\n",
    "          .option(\"encoding\", \"EUC-kr\")  \\\n",
    "          .option(\"sep\", \"\\n\")  \\\n",
    "          .load(\"C://spark/data/review.txt\")"
   ]
  },
  {
   "cell_type": "code",
   "execution_count": 18,
   "id": "71b95588",
   "metadata": {},
   "outputs": [
    {
     "data": {
      "text/plain": [
       "[Row(_c0='배우의 국적을 의심하게 만듬.'),\n",
       " Row(_c0='여주를 잘 알려지지 않은 배우로 캐스팅한게 정말 탁월했습니다! 진짜 일본인이 연기하는 줄 착각할 정도로 연기가 정말 좋았네요! 최희서 배우님 진짜 앞으로 더욱 기대되는 배우입니다!')]"
      ]
     },
     "execution_count": 18,
     "metadata": {},
     "output_type": "execute_result"
    }
   ],
   "source": [
    "linesDF.take(2)"
   ]
  },
  {
   "cell_type": "code",
   "execution_count": 19,
   "id": "f3d90c01",
   "metadata": {},
   "outputs": [],
   "source": [
    "import re"
   ]
  },
  {
   "cell_type": "code",
   "execution_count": 20,
   "id": "3a98c54c",
   "metadata": {},
   "outputs": [],
   "source": [
    "linesRDD = linesDF.rdd"
   ]
  },
  {
   "cell_type": "code",
   "execution_count": 21,
   "id": "f3c841c0",
   "metadata": {},
   "outputs": [
    {
     "data": {
      "text/plain": [
       "[Row(_c0='배우의 국적을 의심하게 만듬.'),\n",
       " Row(_c0='여주를 잘 알려지지 않은 배우로 캐스팅한게 정말 탁월했습니다! 진짜 일본인이 연기하는 줄 착각할 정도로 연기가 정말 좋았네요! 최희서 배우님 진짜 앞으로 더욱 기대되는 배우입니다!'),\n",
       " Row(_c0='역사를 잊은 민족에게 미래는 없다')]"
      ]
     },
     "execution_count": 21,
     "metadata": {},
     "output_type": "execute_result"
    }
   ],
   "source": [
    "linesRDD.take(3)"
   ]
  },
  {
   "cell_type": "code",
   "execution_count": 22,
   "id": "0865336b",
   "metadata": {},
   "outputs": [],
   "source": [
    "wcRDD = linesDF  \\\n",
    ".rdd  \\\n",
    ".map(lambda line: line[0])  \\\n",
    ".flatMap(lambda line: re.split(\"\\W+\", line))  \\\n",
    ".filter(lambda word: len(word) > 0)  \\\n",
    ".map(lambda word: (word, 1))  \\\n",
    ".reduceByKey(lambda v1, v2: v1 + v2)  \\\n",
    ".sortBy(lambda wc: wc[1], False)"
   ]
  },
  {
   "cell_type": "code",
   "execution_count": 23,
   "id": "45c928e5",
   "metadata": {},
   "outputs": [
    {
     "data": {
      "text/plain": [
       "[('영화', 1346),\n",
       " ('너무', 898),\n",
       " ('정말', 698),\n",
       " ('진짜', 536),\n",
       " ('잘', 518),\n",
       " ('연기', 493),\n",
       " ('더', 342),\n",
       " ('박열', 332),\n",
       " ('연기가', 329),\n",
       " ('이제훈', 312),\n",
       " ('꼭', 285),\n",
       " ('수', 277),\n",
       " ('배우들', 273),\n",
       " ('배우들의', 271),\n",
       " ('역사를', 260),\n",
       " ('영화를', 259),\n",
       " ('이', 255),\n",
       " ('연기도', 250),\n",
       " ('이준익', 219),\n",
       " ('그', 213),\n",
       " ('그리고', 212),\n",
       " ('좀', 209),\n",
       " ('좋은', 204),\n",
       " ('영화는', 202),\n",
       " ('한', 197),\n",
       " ('후미코', 196),\n",
       " ('좋았습니다', 192),\n",
       " ('영화가', 190),\n",
       " ('봤습니다', 188),\n",
       " ('보고', 184),\n",
       " ('다', 179),\n",
       " ('그냥', 175),\n",
       " ('재밌게', 174),\n",
       " ('최희서', 166),\n",
       " ('연기는', 165),\n",
       " ('감사합니다', 165),\n",
       " ('있는', 164),\n",
       " ('이런', 160),\n",
       " ('본', 154),\n",
       " ('영화입니다', 153),\n",
       " ('많이', 152),\n",
       " ('것', 150),\n",
       " ('하는', 145),\n",
       " ('대해', 142),\n",
       " ('보는', 142),\n",
       " ('봤는데', 140),\n",
       " ('박열이라는', 131),\n",
       " ('역시', 130),\n",
       " ('또', 129),\n",
       " ('다시', 125)]"
      ]
     },
     "execution_count": 23,
     "metadata": {},
     "output_type": "execute_result"
    }
   ],
   "source": [
    "wcRDD.take(50)"
   ]
  },
  {
   "cell_type": "code",
   "execution_count": 24,
   "id": "44c13b2d",
   "metadata": {},
   "outputs": [],
   "source": [
    "wc50RDD = sc.parallelize(wcRDD.take(50))"
   ]
  },
  {
   "cell_type": "code",
   "execution_count": 25,
   "id": "d2f80eab",
   "metadata": {},
   "outputs": [],
   "source": [
    "wcDF = spark.createDataFrame(wc50RDD)"
   ]
  },
  {
   "cell_type": "code",
   "execution_count": 26,
   "id": "f9b37b97",
   "metadata": {},
   "outputs": [
    {
     "name": "stdout",
     "output_type": "stream",
     "text": [
      "root\n",
      " |-- _1: string (nullable = true)\n",
      " |-- _2: long (nullable = true)\n",
      "\n"
     ]
    }
   ],
   "source": [
    "wcDF.printSchema()"
   ]
  },
  {
   "cell_type": "code",
   "execution_count": 28,
   "id": "ba47cecc",
   "metadata": {},
   "outputs": [
    {
     "name": "stdout",
     "output_type": "stream",
     "text": [
      "+----+----+\n",
      "|  _1|  _2|\n",
      "+----+----+\n",
      "|영화|1346|\n",
      "|너무| 898|\n",
      "|정말| 698|\n",
      "+----+----+\n",
      "only showing top 3 rows\n",
      "\n"
     ]
    }
   ],
   "source": [
    "wcDF.show(3)"
   ]
  },
  {
   "cell_type": "code",
   "execution_count": 29,
   "id": "fb0950ba",
   "metadata": {},
   "outputs": [],
   "source": [
    "wcDFnamed = wcDF.withColumnRenamed(\"_1\", \"words\")  \\\n",
    "            .withColumnRenamed(\"_2\", \"freq\")"
   ]
  },
  {
   "cell_type": "code",
   "execution_count": 30,
   "id": "4908c022",
   "metadata": {},
   "outputs": [
    {
     "name": "stdout",
     "output_type": "stream",
     "text": [
      "root\n",
      " |-- words: string (nullable = true)\n",
      " |-- freq: long (nullable = true)\n",
      "\n"
     ]
    }
   ],
   "source": [
    "wcDFnamed.printSchema()"
   ]
  },
  {
   "cell_type": "code",
   "execution_count": 33,
   "id": "b225c29d",
   "metadata": {},
   "outputs": [
    {
     "name": "stdout",
     "output_type": "stream",
     "text": [
      "+-----+----+\n",
      "|words|freq|\n",
      "+-----+----+\n",
      "| 영화|1346|\n",
      "| 너무| 898|\n",
      "| 정말| 698|\n",
      "+-----+----+\n",
      "only showing top 3 rows\n",
      "\n"
     ]
    }
   ],
   "source": [
    "wcDFnamed.show(3)"
   ]
  },
  {
   "cell_type": "markdown",
   "id": "a1b80dba",
   "metadata": {},
   "source": [
    "- withColumn(컬럼명,계산식) : 계산식에 의하여 만들어지는 새로운 컬럼을 생성"
   ]
  },
  {
   "cell_type": "code",
   "execution_count": 36,
   "id": "fd58e03b",
   "metadata": {},
   "outputs": [],
   "source": [
    "import pyspark.sql.functions as F"
   ]
  },
  {
   "cell_type": "code",
   "execution_count": 37,
   "id": "fc9b9d05",
   "metadata": {},
   "outputs": [
    {
     "name": "stdout",
     "output_type": "stream",
     "text": [
      "+-----+\n",
      "|words|\n",
      "+-----+\n",
      "| 영화|\n",
      "| 너무|\n",
      "| 정말|\n",
      "| 진짜|\n",
      "|   잘|\n",
      "+-----+\n",
      "only showing top 5 rows\n",
      "\n"
     ]
    }
   ],
   "source": [
    "wcDFnamed.select(F.col(\"words\")).show(5)"
   ]
  },
  {
   "cell_type": "code",
   "execution_count": 40,
   "id": "3c4b80a5",
   "metadata": {},
   "outputs": [],
   "source": [
    "wcDFlength = wcDFnamed.withColumn(\"wordLen\",F.length(\"words\"))"
   ]
  },
  {
   "cell_type": "code",
   "execution_count": 41,
   "id": "55fcfc99",
   "metadata": {},
   "outputs": [
    {
     "name": "stdout",
     "output_type": "stream",
     "text": [
      "+-----+----+-------+\n",
      "|words|freq|wordLen|\n",
      "+-----+----+-------+\n",
      "| 영화|1346|      2|\n",
      "| 너무| 898|      2|\n",
      "| 정말| 698|      2|\n",
      "+-----+----+-------+\n",
      "only showing top 3 rows\n",
      "\n"
     ]
    }
   ],
   "source": [
    "wcDFlength.show(3)"
   ]
  },
  {
   "cell_type": "markdown",
   "id": "c156bb80",
   "metadata": {},
   "source": [
    "### DataFrame Method\n",
    "\n",
    "- DataFrame의 대표적인 함수들\n",
    "    - select\n",
    "    - filter\n",
    "    - where\n",
    "    - orderBy\n",
    "    - GroupBy\n",
    "    - agg\n",
    "- 이들 methods를 수행하기 위해서는\n",
    "    - spark.sql.functions을 import 해서\n",
    "    - spark.sql.functions가 제공하는 함수들을 사용\n",
    "        - col\n",
    "        - length"
   ]
  },
  {
   "cell_type": "markdown",
   "id": "f0c593f9",
   "metadata": {},
   "source": [
    "#### .select(컬럼명):\n",
    "- 컬럼들만을 선택\n",
    "- 새로운 DataFrame을 생성"
   ]
  },
  {
   "cell_type": "code",
   "execution_count": 42,
   "id": "6bba974f",
   "metadata": {},
   "outputs": [
    {
     "name": "stdout",
     "output_type": "stream",
     "text": [
      "+-----+----+-------+\n",
      "|words|freq|wordLen|\n",
      "+-----+----+-------+\n",
      "| 영화|1346|      2|\n",
      "| 너무| 898|      2|\n",
      "| 정말| 698|      2|\n",
      "+-----+----+-------+\n",
      "only showing top 3 rows\n",
      "\n"
     ]
    }
   ],
   "source": [
    "wcDFlength.show(3)"
   ]
  },
  {
   "cell_type": "code",
   "execution_count": 44,
   "id": "e6154987",
   "metadata": {},
   "outputs": [
    {
     "data": {
      "text/plain": [
       "pyspark.sql.dataframe.DataFrame"
      ]
     },
     "execution_count": 44,
     "metadata": {},
     "output_type": "execute_result"
    }
   ],
   "source": [
    "type(wcDFlength)"
   ]
  },
  {
   "cell_type": "code",
   "execution_count": 45,
   "id": "5b78af75",
   "metadata": {},
   "outputs": [
    {
     "name": "stdout",
     "output_type": "stream",
     "text": [
      "+-----+\n",
      "|words|\n",
      "+-----+\n",
      "| 영화|\n",
      "| 너무|\n",
      "+-----+\n",
      "only showing top 2 rows\n",
      "\n"
     ]
    }
   ],
   "source": [
    "wcDFlength.select(F.col(\"words\")).show(2)"
   ]
  },
  {
   "cell_type": "code",
   "execution_count": 46,
   "id": "7c3a1999",
   "metadata": {},
   "outputs": [
    {
     "name": "stdout",
     "output_type": "stream",
     "text": [
      "+-----+\n",
      "|words|\n",
      "+-----+\n",
      "| 영화|\n",
      "| 너무|\n",
      "+-----+\n",
      "only showing top 2 rows\n",
      "\n"
     ]
    }
   ],
   "source": [
    "wcDFlength.select(wcDFlength.words).show(2)"
   ]
  },
  {
   "cell_type": "code",
   "execution_count": 47,
   "id": "c88d73f4",
   "metadata": {},
   "outputs": [
    {
     "name": "stdout",
     "output_type": "stream",
     "text": [
      "+-----+\n",
      "|words|\n",
      "+-----+\n",
      "| 영화|\n",
      "| 너무|\n",
      "+-----+\n",
      "only showing top 2 rows\n",
      "\n"
     ]
    }
   ],
   "source": [
    "wcDFlength.select(\"words\").show(2)"
   ]
  },
  {
   "cell_type": "code",
   "execution_count": 50,
   "id": "9824378d",
   "metadata": {},
   "outputs": [
    {
     "name": "stdout",
     "output_type": "stream",
     "text": [
      "+-------+----+\n",
      "|wordLen|freq|\n",
      "+-------+----+\n",
      "|      2|1346|\n",
      "|      2| 898|\n",
      "|      2| 698|\n",
      "|      2| 536|\n",
      "|      1| 518|\n",
      "|      2| 493|\n",
      "|      1| 342|\n",
      "|      2| 332|\n",
      "|      3| 329|\n",
      "|      3| 312|\n",
      "|      1| 285|\n",
      "|      1| 277|\n",
      "|      3| 273|\n",
      "|      4| 271|\n",
      "|      3| 260|\n",
      "|      3| 259|\n",
      "|      1| 255|\n",
      "|      3| 250|\n",
      "|      3| 219|\n",
      "|      1| 213|\n",
      "+-------+----+\n",
      "only showing top 20 rows\n",
      "\n"
     ]
    }
   ],
   "source": [
    "wcDFlength.select(F.col(\"wordLen\"), F.col(\"freq\")).show()"
   ]
  },
  {
   "cell_type": "code",
   "execution_count": 48,
   "id": "3fd6ded0",
   "metadata": {},
   "outputs": [
    {
     "name": "stdout",
     "output_type": "stream",
     "text": [
      "+-----+----+-------+\n",
      "|words|freq|wordLen|\n",
      "+-----+----+-------+\n",
      "|   잘| 518|      1|\n",
      "|   더| 342|      1|\n",
      "|   꼭| 285|      1|\n",
      "|   수| 277|      1|\n",
      "|   이| 255|      1|\n",
      "|   그| 213|      1|\n",
      "|   좀| 209|      1|\n",
      "|   한| 197|      1|\n",
      "|   다| 179|      1|\n",
      "|   본| 154|      1|\n",
      "|   것| 150|      1|\n",
      "|   또| 129|      1|\n",
      "+-----+----+-------+\n",
      "\n"
     ]
    }
   ],
   "source": [
    "wcDFlength.filter(F.col(\"wordLen\") <= 1).show()"
   ]
  },
  {
   "cell_type": "code",
   "execution_count": 52,
   "id": "f00126fa",
   "metadata": {},
   "outputs": [
    {
     "name": "stdout",
     "output_type": "stream",
     "text": [
      "+-----+----+-------+\n",
      "|words|freq|wordLen|\n",
      "+-----+----+-------+\n",
      "|   잘| 518|      1|\n",
      "|   더| 342|      1|\n",
      "|   꼭| 285|      1|\n",
      "|   수| 277|      1|\n",
      "|   이| 255|      1|\n",
      "|   그| 213|      1|\n",
      "|   좀| 209|      1|\n",
      "|   한| 197|      1|\n",
      "|   다| 179|      1|\n",
      "|   본| 154|      1|\n",
      "|   것| 150|      1|\n",
      "|   또| 129|      1|\n",
      "+-----+----+-------+\n",
      "\n"
     ]
    }
   ],
   "source": [
    "wcDFlength.filter(wcDFlength.wordLen <= 1).show()"
   ]
  },
  {
   "cell_type": "markdown",
   "id": "c69b0cbe",
   "metadata": {},
   "source": [
    "#### .filter(조건식)\n",
    "- 조건식을 만족시키는 레코드들만을 선택\n",
    "- (새로운 DataFrame을 생성)\n",
    "\n",
    "#### .where(조건식)\n",
    "- filter와 동일 기능\n",
    "- \" \"안에 조건식을 추가"
   ]
  },
  {
   "cell_type": "code",
   "execution_count": 54,
   "id": "bdca5a3b",
   "metadata": {},
   "outputs": [
    {
     "name": "stdout",
     "output_type": "stream",
     "text": [
      "+-----+----+-------+\n",
      "|words|freq|wordLen|\n",
      "+-----+----+-------+\n",
      "|   잘| 518|      1|\n",
      "|   더| 342|      1|\n",
      "|   꼭| 285|      1|\n",
      "|   수| 277|      1|\n",
      "|   이| 255|      1|\n",
      "|   그| 213|      1|\n",
      "|   좀| 209|      1|\n",
      "|   한| 197|      1|\n",
      "|   다| 179|      1|\n",
      "|   본| 154|      1|\n",
      "|   것| 150|      1|\n",
      "|   또| 129|      1|\n",
      "+-----+----+-------+\n",
      "\n"
     ]
    }
   ],
   "source": [
    "wcDFlength.where(\"wordLen <= 1\").show()"
   ]
  },
  {
   "cell_type": "markdown",
   "id": "21faa6c3",
   "metadata": {},
   "source": [
    "#### .groupby(컬럼명) : 해당 컬럼의 값이 같은 레코드들을 모두 모음\n",
    "#### .agg(계산식) : 계산식의 값을 합계 처리\n",
    "#### .orderBy(컬럼명) : 컬럼명의 값에 따라 레코드들을 정렬"
   ]
  },
  {
   "cell_type": "code",
   "execution_count": 59,
   "id": "b0c8c7f7",
   "metadata": {},
   "outputs": [],
   "source": [
    "wordLengthFrequency = wcDFlength  \\\n",
    ".groupBy(F.col(\"wordLen\"))  \\\n",
    ".agg(F.count(F.col(\"freq\")), F.avg(F.col(\"freq\")), F.sum(F.col(\"freq\"))) \\\n",
    ".orderBy(F.col(\"wordLen\"))"
   ]
  },
  {
   "cell_type": "code",
   "execution_count": 60,
   "id": "22f81fb9",
   "metadata": {},
   "outputs": [
    {
     "name": "stdout",
     "output_type": "stream",
     "text": [
      "+-------+-----------+------------------+---------+\n",
      "|wordLen|count(freq)|         avg(freq)|sum(freq)|\n",
      "+-------+-----------+------------------+---------+\n",
      "|      1|         12|242.33333333333334|     2908|\n",
      "|      2|         17|354.47058823529414|     6026|\n",
      "|      3|         15|223.13333333333333|     3347|\n",
      "|      4|          2|             229.5|      459|\n",
      "|      5|          4|            160.25|      641|\n",
      "+-------+-----------+------------------+---------+\n",
      "\n"
     ]
    }
   ],
   "source": [
    "wordLengthFrequency.show()"
   ]
  }
 ],
 "metadata": {
  "kernelspec": {
   "display_name": "Python 3",
   "language": "python",
   "name": "python3"
  },
  "language_info": {
   "codemirror_mode": {
    "name": "ipython",
    "version": 3
   },
   "file_extension": ".py",
   "mimetype": "text/x-python",
   "name": "python",
   "nbconvert_exporter": "python",
   "pygments_lexer": "ipython3",
   "version": "3.8.8"
  }
 },
 "nbformat": 4,
 "nbformat_minor": 5
}
