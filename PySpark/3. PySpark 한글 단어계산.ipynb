{
 "cells": [
  {
   "cell_type": "code",
   "execution_count": 1,
   "id": "c7f91d96",
   "metadata": {},
   "outputs": [],
   "source": [
    "import findspark"
   ]
  },
  {
   "cell_type": "code",
   "execution_count": 2,
   "id": "a693230a",
   "metadata": {},
   "outputs": [],
   "source": [
    "findspark.init()"
   ]
  },
  {
   "cell_type": "code",
   "execution_count": 3,
   "id": "950f83ea",
   "metadata": {},
   "outputs": [],
   "source": [
    "import pyspark"
   ]
  },
  {
   "cell_type": "code",
   "execution_count": 4,
   "id": "b0ded2a6",
   "metadata": {},
   "outputs": [],
   "source": [
    "sc = pyspark.SparkContext(\"local\")"
   ]
  },
  {
   "cell_type": "code",
   "execution_count": 7,
   "id": "f92bdd5b",
   "metadata": {},
   "outputs": [],
   "source": [
    "lines = sc.textFile(\"C://spark/data/review.txt\")"
   ]
  },
  {
   "cell_type": "code",
   "execution_count": 8,
   "id": "723f5987",
   "metadata": {},
   "outputs": [
    {
     "data": {
      "text/plain": [
       "['����� ������ �ǽ��ϰ� ����.',\n",
       " '',\n",
       " '���ָ� �� �˷����� ���� ���� ĳ�����Ѱ� ���� Ź���߽��ϴ�! ��¥ �Ϻ����� �����ϴ� �� ������ ������ ���Ⱑ ���� ���ҳ\\u05ff�! ���� ���� ��¥ ������ ���� ���Ǵ� ����Դϴ�!',\n",
       " '',\n",
       " '']"
      ]
     },
     "execution_count": 8,
     "metadata": {},
     "output_type": "execute_result"
    }
   ],
   "source": [
    "lines.take(5)"
   ]
  },
  {
   "cell_type": "markdown",
   "id": "742ebb42",
   "metadata": {},
   "source": [
    "### Window에서 Spark 한글 처리 프로그램\n",
    "- Text 파일의 한글을 Unicode로 못읽음\n",
    "- SparkSession의 read 함수에서 \"csv\" 형식으로 읽어들어야 함.\n",
    "    - Spark Session에서 txt 파일을 csv 형식으로 읽어 dataframe을 생성\n",
    "        - encoding option : \"EUC-kr\"\n",
    "        - 분리자(\"sep\")를 라인(\"\\n\")으로 설정하여 한라인씩 분리하여 읽음"
   ]
  },
  {
   "cell_type": "code",
   "execution_count": 13,
   "id": "f7517dc8",
   "metadata": {},
   "outputs": [],
   "source": [
    "linesDF = spark.read.format(\"csv\").option(\"encoding\",\"EUC-kr\") \\\n",
    ".option(\"sep\",\"\\n\") \\\n",
    ".load(\"C://spark/data/review.txt\")"
   ]
  },
  {
   "cell_type": "code",
   "execution_count": 14,
   "id": "2aae3a67",
   "metadata": {},
   "outputs": [
    {
     "data": {
      "text/plain": [
       "[Row(_c0='배우의 국적을 의심하게 만듬.'),\n",
       " Row(_c0='여주를 잘 알려지지 않은 배우로 캐스팅한게 정말 탁월했습니다! 진짜 일본인이 연기하는 줄 착각할 정도로 연기가 정말 좋았네요! 최희서 배우님 진짜 앞으로 더욱 기대되는 배우입니다!'),\n",
       " Row(_c0='역사를 잊은 민족에게 미래는 없다'),\n",
       " Row(_c0='이제훈은 진짜 연기잘한다'),\n",
       " Row(_c0='리얼볼바엔 그냥 이거 7번 보는게 더 재밌음')]"
      ]
     },
     "execution_count": 14,
     "metadata": {},
     "output_type": "execute_result"
    }
   ],
   "source": [
    "linesDF.take(5)"
   ]
  },
  {
   "cell_type": "markdown",
   "id": "9fe9d2ca",
   "metadata": {},
   "source": [
    "- DataFrame을 rdd로 변환\n",
    "    - DataFrame은 .map 등의 함수를 사용할 수 없음\n",
    "        - 바로 변환하면 row들의 DataSet이 만들어짐\n",
    "            - row에 대해서는 re.split와 같은 문자열 변환함수를 적용할 수 없음.\n",
    "        - 각 row를 변환해서 String들의 DataSet을 만들어주어야 함."
   ]
  },
  {
   "cell_type": "code",
   "execution_count": 15,
   "id": "1fe7d843",
   "metadata": {},
   "outputs": [],
   "source": [
    "import re"
   ]
  },
  {
   "cell_type": "code",
   "execution_count": 17,
   "id": "7022581c",
   "metadata": {},
   "outputs": [],
   "source": [
    "linesRDD = linesDF.rdd"
   ]
  },
  {
   "cell_type": "code",
   "execution_count": 21,
   "id": "ef6ac731",
   "metadata": {},
   "outputs": [
    {
     "data": {
      "text/plain": [
       "[Row(_c0='배우의 국적을 의심하게 만듬.'),\n",
       " Row(_c0='여주를 잘 알려지지 않은 배우로 캐스팅한게 정말 탁월했습니다! 진짜 일본인이 연기하는 줄 착각할 정도로 연기가 정말 좋았네요! 최희서 배우님 진짜 앞으로 더욱 기대되는 배우입니다!'),\n",
       " Row(_c0='역사를 잊은 민족에게 미래는 없다')]"
      ]
     },
     "execution_count": 21,
     "metadata": {},
     "output_type": "execute_result"
    }
   ],
   "source": [
    "linesRDD.take(3)"
   ]
  },
  {
   "cell_type": "code",
   "execution_count": 31,
   "id": "3f1edc2d",
   "metadata": {},
   "outputs": [],
   "source": [
    "top20Words = linesRDD.map(lambda line: line[0]) \\\n",
    ".flatMap(lambda line: re.split(\"\\W+\", line))    \\\n",
    ".filter(lambda word: len(word) > 0 )            \\\n",
    ".map(lambda word: (word, 1))                    \\\n",
    ".reduceByKey(lambda v1, v2: v1 + v2)            \\\n",
    ".sortBy(lambda wc: wc[1], False)               \\\n",
    ".take(20)"
   ]
  },
  {
   "cell_type": "code",
   "execution_count": 33,
   "id": "4b63310d",
   "metadata": {},
   "outputs": [
    {
     "data": {
      "text/plain": [
       "[('영화', 1346),\n",
       " ('너무', 898),\n",
       " ('정말', 698),\n",
       " ('진짜', 536),\n",
       " ('잘', 518),\n",
       " ('연기', 493),\n",
       " ('더', 342),\n",
       " ('박열', 332),\n",
       " ('연기가', 329),\n",
       " ('이제훈', 312),\n",
       " ('꼭', 285),\n",
       " ('수', 277),\n",
       " ('배우들', 273),\n",
       " ('배우들의', 271),\n",
       " ('역사를', 260),\n",
       " ('영화를', 259),\n",
       " ('이', 255),\n",
       " ('연기도', 250),\n",
       " ('이준익', 219),\n",
       " ('그', 213)]"
      ]
     },
     "execution_count": 33,
     "metadata": {},
     "output_type": "execute_result"
    }
   ],
   "source": [
    "top20Words"
   ]
  },
  {
   "cell_type": "code",
   "execution_count": 34,
   "id": "c3616d8b",
   "metadata": {},
   "outputs": [],
   "source": [
    "import matplotlib.pyplot as plt"
   ]
  },
  {
   "cell_type": "code",
   "execution_count": 35,
   "id": "83f1b114",
   "metadata": {},
   "outputs": [],
   "source": [
    "x = []\n",
    "y = []"
   ]
  },
  {
   "cell_type": "code",
   "execution_count": 37,
   "id": "7e34f123",
   "metadata": {},
   "outputs": [
    {
     "data": {
      "image/png": "[encoded data removed]",
      "text/plain": [
       "<Figure size 432x288 with 1 Axes>"
      ]
     },
     "metadata": {
      "needs_background": "light"
     },
     "output_type": "display_data"
    }
   ],
   "source": [
    "for (w, c) in top20Words:\n",
    "    x.append(w)\n",
    "    y.append(c)\n",
    "plt.bar(x, y)\n",
    "plt.xticks(rotation=\"vertical\")\n",
    "plt.show()"
   ]
  },
  {
   "cell_type": "code",
   "execution_count": 38,
   "id": "3299ecbb",
   "metadata": {},
   "outputs": [],
   "source": [
    "from matplotlib import font_manager"
   ]
  },
  {
   "cell_type": "code",
   "execution_count": 39,
   "id": "9e754969",
   "metadata": {},
   "outputs": [],
   "source": [
    "fontprop = font_manager.FontProperties(fname=\"C://NanumBarunGothic.ttf\")"
   ]
  },
  {
   "cell_type": "code",
   "execution_count": 40,
   "id": "c405efe0",
   "metadata": {},
   "outputs": [
    {
     "data": {
      "image/png": "[encoded data removed]",
      "text/plain": [
       "<Figure size 432x288 with 1 Axes>"
      ]
     },
     "metadata": {
      "needs_background": "light"
     },
     "output_type": "display_data"
    }
   ],
   "source": [
    "for (w, c) in top20Words:\n",
    "    x.append(w)\n",
    "    y.append(c)\n",
    "plt.bar(x, y)\n",
    "plt.xticks(rotation=\"vertical\",fontproperties=fontprop)\n",
    "plt.show()"
   ]
  }
 ],
 "metadata": {
  "kernelspec": {
   "display_name": "Python 3",
   "language": "python",
   "name": "python3"
  },
  "language_info": {
   "codemirror_mode": {
    "name": "ipython",
    "version": 3
   },
   "file_extension": ".py",
   "mimetype": "text/x-python",
   "name": "python",
   "nbconvert_exporter": "python",
   "pygments_lexer": "ipython3",
   "version": "3.8.8"
  }
 },
 "nbformat": 4,
 "nbformat_minor": 5
}
