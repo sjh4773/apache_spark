{
 "cells": [
  {
   "cell_type": "markdown",
   "id": "5023c632",
   "metadata": {},
   "source": [
    "### SparkContext에서 RDD의 읽기/쓰기\n",
    "- Read\n",
    "    - sc.textfile(\"경로\")\n",
    "- Save\n",
    "    - Rdd이름.saveAsTextFile(\"경로\")"
   ]
  },
  {
   "cell_type": "markdown",
   "id": "e07b986b",
   "metadata": {},
   "source": [
    "### SparkSession에서 DataFrame의 읽기/쓰기"
   ]
  },
  {
   "cell_type": "markdown",
   "id": "64368b44",
   "metadata": {},
   "source": [
    "- Read\n",
    "    - spark.read.format(\"문서형식\").option(\"옵션들\").load(\"경로\")\n",
    "- Save\n",
    "    - df.write.format(\"문서형식\").save(\"경로\")\n",
    "        - 파일이름을 지정하지 않음 - 디렉토리만 지정"
   ]
  },
  {
   "cell_type": "markdown",
   "id": "2106ecab",
   "metadata": {},
   "source": [
    "- Format\n",
    "    - text: text 파일\n",
    "        - 컬럼이 1개인 Dataframe\n",
    "        - 컬럼의 데이터 타입이 StringType()\n",
    "    - csv\n",
    "    - json\n",
    "    - parquet\n",
    "- Mode\n",
    "    - Overwrite: 디렉토리의 기존 파일들을 치우고 다시 씀\n",
    "    - Append: 디렉토리에 파일들을 추가\n",
    "    - 지정하지 않을 경우 새로운 디렉토리를 만듬\n",
    "        - 기존 디렉토리가 있으면 오류 발생"
   ]
  },
  {
   "cell_type": "markdown",
   "id": "2c602b97",
   "metadata": {},
   "source": [
    "### DataFrame 읽어들이기\n",
    "\n",
    "#### Schema를 직접 정의한 후, 사용\n",
    "\n",
    "    import org.apache.spark.sql.types\n",
    "\n",
    "    mySchema = StructType(Array( StructField(\"menuId\",StringType, false),\n",
    "                                 StructField(\"name\", StringType, true),\n",
    "                                 StructField(\"price\", IntegerType, true),\n",
    "                                 StructField(\"kcal\",IntegerType, true))))\n",
    "\n",
    "    dessertDF3 = spark.read \\\n",
    "                      .format(\"csv\") \\\n",
    "                      .schema(mySchema) \\\n",
    "                      .load(\"file:///C:/SparkStreaming/dessert-menu.txt\")"
   ]
  },
  {
   "cell_type": "code",
   "execution_count": 1,
   "id": "b8cd8fd7",
   "metadata": {},
   "outputs": [],
   "source": [
    "import findspark"
   ]
  },
  {
   "cell_type": "code",
   "execution_count": 2,
   "id": "3e73f105",
   "metadata": {},
   "outputs": [],
   "source": [
    "findspark.init()"
   ]
  },
  {
   "cell_type": "code",
   "execution_count": 3,
   "id": "fc76844a",
   "metadata": {},
   "outputs": [],
   "source": [
    "import pyspark"
   ]
  },
  {
   "cell_type": "code",
   "execution_count": 4,
   "id": "70795e81",
   "metadata": {},
   "outputs": [],
   "source": [
    "import pyspark.sql"
   ]
  },
  {
   "cell_type": "code",
   "execution_count": 5,
   "id": "10d56a95",
   "metadata": {},
   "outputs": [],
   "source": [
    "import pyspark.sql.functions as F"
   ]
  },
  {
   "cell_type": "code",
   "execution_count": 7,
   "id": "fbf76773",
   "metadata": {},
   "outputs": [],
   "source": [
    "spark = pyspark.sql.SparkSession \\\n",
    ".builder \\\n",
    ".master(\"local\") \\\n",
    ".getOrCreate()"
   ]
  },
  {
   "cell_type": "code",
   "execution_count": 8,
   "id": "34142d9c",
   "metadata": {},
   "outputs": [],
   "source": [
    "dessertMenuDF = spark.read \\\n",
    ".option(\"inferSchema\", \"true\") \\\n",
    ".option(\"header\", \"true\") \\\n",
    ".format(\"csv\") \\\n",
    ".load(\"C://spark/data/dessert-menu.csv\")"
   ]
  },
  {
   "cell_type": "code",
   "execution_count": 9,
   "id": "5695e0a2",
   "metadata": {},
   "outputs": [
    {
     "name": "stdout",
     "output_type": "stream",
     "text": [
      "+------+---------------+-----+----+\n",
      "|menuId|           name|price|kcal|\n",
      "+------+---------------+-----+----+\n",
      "|   D-0|  초콜릿 파르페| 4900| 420|\n",
      "|   D-1|    푸딩 파르페| 5300| 380|\n",
      "|   D-2|    딸기 파르페| 5200| 320|\n",
      "|   D-3|       판나코타| 4200| 283|\n",
      "|   D-4|      치즈 무스| 5800| 288|\n",
      "|   D-5|       아포가토| 3000| 248|\n",
      "|   D-6|       티라미스| 6000| 251|\n",
      "|   D-7|    녹차 파르페| 4500| 380|\n",
      "|   D-8|  바닐라 젤라또| 3600| 131|\n",
      "|   D-9|  카라멜 팬케익| 3900| 440|\n",
      "|  D-10|    크림 안미츠| 5000| 250|\n",
      "|  D-11|  고구마 파르페| 6500| 650|\n",
      "|  D-12|      녹차 빙수| 3800| 320|\n",
      "|  D-13|  초코 크레이프| 3700| 300|\n",
      "|  D-14|바나나 크레이프| 3300| 220|\n",
      "|  D-15|  커스터드 푸딩| 2000| 120|\n",
      "|  D-16|    초코 토르테| 3300| 220|\n",
      "|  D-17|    치즈 수플레| 2200| 160|\n",
      "|  D-18|    호박 타르트| 3400| 230|\n",
      "|  D-19|      캬라멜 롤| 3700| 230|\n",
      "+------+---------------+-----+----+\n",
      "only showing top 20 rows\n",
      "\n"
     ]
    }
   ],
   "source": [
    "dessertMenuDF.show()"
   ]
  },
  {
   "cell_type": "code",
   "execution_count": 15,
   "id": "01e3d761",
   "metadata": {},
   "outputs": [],
   "source": [
    "dessertOrderDF = spark.read \\\n",
    ".option(\"inferSchema\", \"true\") \\\n",
    ".option(\"header\", \"False\") \\\n",
    ".format(\"csv\") \\\n",
    ".load(\"C://spark/data/dessert-order.csv\")"
   ]
  },
  {
   "cell_type": "code",
   "execution_count": 16,
   "id": "60c587a4",
   "metadata": {},
   "outputs": [
    {
     "name": "stdout",
     "output_type": "stream",
     "text": [
      "+-----+----+---+\n",
      "|  _c0| _c1|_c2|\n",
      "+-----+----+---+\n",
      "|SID-0| D-0|  2|\n",
      "|SID-0| D-3|  1|\n",
      "|SID-1|D-10|  4|\n",
      "|SID-2| D-5|  1|\n",
      "|SID-2| D-8|  1|\n",
      "|SID-2|D-20|  1|\n",
      "+-----+----+---+\n",
      "\n"
     ]
    }
   ],
   "source": [
    "dessertOrderDF.show()"
   ]
  },
  {
   "cell_type": "code",
   "execution_count": 17,
   "id": "76e05964",
   "metadata": {},
   "outputs": [],
   "source": [
    "dessertOrderDF = dessertOrderDF.withColumnRenamed(\"_c0\",\"orderId\").withColumnRenamed(\"_c1\",\"menuId\").withColumnRenamed(\"_c2\",\"number\")"
   ]
  },
  {
   "cell_type": "code",
   "execution_count": 18,
   "id": "4bda4e09",
   "metadata": {},
   "outputs": [
    {
     "name": "stdout",
     "output_type": "stream",
     "text": [
      "+-------+----------+\n",
      "|orderId|orderTotal|\n",
      "+-------+----------+\n",
      "|  SID-0|     14000|\n",
      "|  SID-1|     20000|\n",
      "|  SID-2|     10600|\n",
      "+-------+----------+\n",
      "\n"
     ]
    }
   ],
   "source": [
    "# 1. 주문별 금액\n",
    "\n",
    "dessertOrderDF.join(dessertMenuDF, dessertOrderDF.menuId == dessertMenuDF.menuId) \\\n",
    ".groupBy(dessertOrderDF.orderId) \\\n",
    ".agg(F.sum(dessertOrderDF.number * dessertMenuDF.price).alias('orderTotal')) \\\n",
    ".show()"
   ]
  },
  {
   "cell_type": "code",
   "execution_count": 20,
   "id": "19bb7eaf",
   "metadata": {},
   "outputs": [],
   "source": [
    "orderTotalDF = dessertOrderDF.join(dessertMenuDF, dessertOrderDF.menuId == dessertMenuDF.menuId) \\\n",
    ".groupBy(dessertOrderDF.orderId) \\\n",
    ".agg(F.sum(dessertOrderDF.number * dessertMenuDF.price).alias('orderTotal'))"
   ]
  },
  {
   "cell_type": "markdown",
   "id": "727bcf2d",
   "metadata": {},
   "source": [
    "#### Dataframe write\n",
    "- 만들어지는 파일의 수\n",
    "    - 여러 개가 만들어짐\n",
    "    - 파일의 개수를 지정 : coalesce(n)"
   ]
  },
  {
   "cell_type": "code",
   "execution_count": 22,
   "id": "f864f143",
   "metadata": {},
   "outputs": [],
   "source": [
    "#orderTotalDF.write.format(\"csv\").mode(\"overwrite\").save(\"C://spark/data/df\")"
   ]
  },
  {
   "cell_type": "code",
   "execution_count": null,
   "id": "98617efc",
   "metadata": {},
   "outputs": [],
   "source": [
    "# orderTotalDF.write.format(\"json\").mode(\"append\").save(\"C://spark/data/df\")"
   ]
  },
  {
   "cell_type": "code",
   "execution_count": 28,
   "id": "f21c0ac7",
   "metadata": {},
   "outputs": [],
   "source": [
    "orderTotalDF.coalesce(1).write.format(\"json\").mode(\"overwrite\").save(\"C://spark/data/df\")"
   ]
  },
  {
   "cell_type": "code",
   "execution_count": 29,
   "id": "07eb13d1",
   "metadata": {},
   "outputs": [],
   "source": [
    "orderTotalDFread = spark.read.format(\"json\").load(\"C://spark/data/df\")"
   ]
  },
  {
   "cell_type": "code",
   "execution_count": 30,
   "id": "3cbdd19b",
   "metadata": {},
   "outputs": [
    {
     "name": "stdout",
     "output_type": "stream",
     "text": [
      "+-------+----------+\n",
      "|orderId|orderTotal|\n",
      "+-------+----------+\n",
      "|  SID-0|     14000|\n",
      "|  SID-1|     20000|\n",
      "|  SID-2|     10600|\n",
      "+-------+----------+\n",
      "\n"
     ]
    }
   ],
   "source": [
    "orderTotalDFread.show()"
   ]
  },
  {
   "cell_type": "code",
   "execution_count": 21,
   "id": "3bf03caa",
   "metadata": {},
   "outputs": [
    {
     "name": "stdout",
     "output_type": "stream",
     "text": [
      "+----------+\n",
      "|orderTotal|\n",
      "+----------+\n",
      "|     44600|\n",
      "+----------+\n",
      "\n"
     ]
    }
   ],
   "source": [
    "# 총판매액\n",
    "\n",
    "dessertOrderDF.join(dessertMenuDF, dessertOrderDF.menuId == dessertMenuDF.menuId ) \\\n",
    ".agg(F.sum(dessertOrderDF.number * dessertMenuDF.price).alias('orderTotal')) \\\n",
    ".show()"
   ]
  },
  {
   "cell_type": "markdown",
   "id": "8a830088",
   "metadata": {},
   "source": [
    "### UDF(User Defined Function)\n",
    "\n",
    "- Dataframe의 데이터 변환에서, 사용자가 만든 함수를 사용\n",
    "    - Dataframe의 자체 함수들(methods)들에서 udf 사용\n",
    "        - from pyspark.sql.functions import udf\n",
    "        - udf이름 = udf[method이름]\n",
    "        \n",
    "- SparkSession의 sql에서 udf 사용\n",
    "    - spark.udf.register(\"udf이름\",\"method이름\")"
   ]
  },
  {
   "cell_type": "code",
   "execution_count": 32,
   "id": "fa545035",
   "metadata": {},
   "outputs": [
    {
     "name": "stdout",
     "output_type": "stream",
     "text": [
      "+-------+----------+\n",
      "|orderId|orderTotal|\n",
      "+-------+----------+\n",
      "|  SID-0|     14000|\n",
      "|  SID-1|     20000|\n",
      "|  SID-2|     10600|\n",
      "+-------+----------+\n",
      "\n"
     ]
    }
   ],
   "source": [
    "orderTotalDF.show()"
   ]
  },
  {
   "cell_type": "code",
   "execution_count": 48,
   "id": "7aefe1f8",
   "metadata": {},
   "outputs": [],
   "source": [
    "def orderLevel(sum):\n",
    "    if (sum >= 30000):\n",
    "        level = 3\n",
    "    elif (sum >= 20000):\n",
    "        level = 2\n",
    "    else:\n",
    "        level = 1\n",
    "    return(level)"
   ]
  },
  {
   "cell_type": "code",
   "execution_count": 49,
   "id": "9d993d29",
   "metadata": {},
   "outputs": [
    {
     "data": {
      "text/plain": [
       "1"
      ]
     },
     "execution_count": 49,
     "metadata": {},
     "output_type": "execute_result"
    }
   ],
   "source": [
    "orderLevel(10000)"
   ]
  },
  {
   "cell_type": "code",
   "execution_count": 50,
   "id": "0f4d3055",
   "metadata": {},
   "outputs": [],
   "source": [
    "orderLevel_udf = F.udf(orderLevel)"
   ]
  },
  {
   "cell_type": "code",
   "execution_count": 51,
   "id": "67f6f320",
   "metadata": {},
   "outputs": [
    {
     "name": "stdout",
     "output_type": "stream",
     "text": [
      "+-------+----------+----------+\n",
      "|orderId|orderTotal|orderLevel|\n",
      "+-------+----------+----------+\n",
      "|  SID-0|     14000|         1|\n",
      "|  SID-1|     20000|         2|\n",
      "|  SID-2|     10600|         1|\n",
      "+-------+----------+----------+\n",
      "\n"
     ]
    }
   ],
   "source": [
    "orderTotalDF.select(F.col(\"orderId\"), F.col(\"orderTotal\"), orderLevel_udf(\"orderTotal\").alias(\"orderLevel\")).show()"
   ]
  },
  {
   "cell_type": "code",
   "execution_count": 52,
   "id": "74abf596",
   "metadata": {},
   "outputs": [
    {
     "name": "stdout",
     "output_type": "stream",
     "text": [
      "+----------+--------------+\n",
      "|orderLevel|count(orderId)|\n",
      "+----------+--------------+\n",
      "|         1|             2|\n",
      "|         2|             1|\n",
      "+----------+--------------+\n",
      "\n"
     ]
    }
   ],
   "source": [
    "orderTotalDF.select(F.col(\"orderId\"), F.col(\"orderTotal\"), orderLevel_udf(\"orderTotal\").alias(\"orderLevel\")) \\\n",
    ".groupBy(F.col(\"orderLevel\")) \\\n",
    ".agg(F.count(F.col(\"orderId\"))).show()"
   ]
  },
  {
   "cell_type": "code",
   "execution_count": 53,
   "id": "95a6562b",
   "metadata": {},
   "outputs": [
    {
     "data": {
      "text/plain": [
       "<function __main__.orderLevel(sum)>"
      ]
     },
     "execution_count": 53,
     "metadata": {},
     "output_type": "execute_result"
    }
   ],
   "source": [
    "spark.udf.register(\"orderSumLevel\", orderLevel)"
   ]
  },
  {
   "cell_type": "code",
   "execution_count": 54,
   "id": "159caac1",
   "metadata": {},
   "outputs": [],
   "source": [
    "orderTotalDF.createOrReplaceTempView(\"OrderTotal\")"
   ]
  },
  {
   "cell_type": "code",
   "execution_count": 55,
   "id": "a7451e71",
   "metadata": {},
   "outputs": [
    {
     "name": "stdout",
     "output_type": "stream",
     "text": [
      "+-------+----------+\n",
      "|orderId|orderTotal|\n",
      "+-------+----------+\n",
      "|  SID-0|     14000|\n",
      "|  SID-1|     20000|\n",
      "|  SID-2|     10600|\n",
      "+-------+----------+\n",
      "\n"
     ]
    }
   ],
   "source": [
    "spark.sql(\"\"\" SELECT orderId, orderTotal\n",
    "              FROM OrderTotal\"\"\").show()"
   ]
  },
  {
   "cell_type": "code",
   "execution_count": 56,
   "id": "ffaf8c8f",
   "metadata": {},
   "outputs": [
    {
     "name": "stdout",
     "output_type": "stream",
     "text": [
      "+-------+----------+-------------------------+\n",
      "|orderId|orderTotal|orderSumLevel(orderTotal)|\n",
      "+-------+----------+-------------------------+\n",
      "|  SID-0|     14000|                        1|\n",
      "|  SID-1|     20000|                        2|\n",
      "|  SID-2|     10600|                        1|\n",
      "+-------+----------+-------------------------+\n",
      "\n"
     ]
    }
   ],
   "source": [
    "spark.sql(\"\"\" SELECT orderId, orderTotal, orderSumLevel(orderTotal)\n",
    "              FROM OrderTotal\"\"\").show()"
   ]
  },
  {
   "cell_type": "markdown",
   "id": "5239a97f",
   "metadata": {},
   "source": [
    "### 스파크 변환 함수"
   ]
  },
  {
   "cell_type": "code",
   "execution_count": 57,
   "id": "9e1e4bd1",
   "metadata": {},
   "outputs": [],
   "source": [
    "sc = spark.sparkContext"
   ]
  },
  {
   "cell_type": "code",
   "execution_count": 58,
   "id": "de638e13",
   "metadata": {},
   "outputs": [],
   "source": [
    "inputData = sc.textFile(\"C://spark/README.md\")"
   ]
  },
  {
   "cell_type": "code",
   "execution_count": 59,
   "id": "d2f8d7d1",
   "metadata": {},
   "outputs": [
    {
     "data": {
      "text/plain": [
       "108"
      ]
     },
     "execution_count": 59,
     "metadata": {},
     "output_type": "execute_result"
    }
   ],
   "source": [
    "inputData.count()"
   ]
  },
  {
   "cell_type": "code",
   "execution_count": 62,
   "id": "4a882d19",
   "metadata": {},
   "outputs": [],
   "source": [
    "sampledInput = inputData.sample(False, 0.1, seed=0)"
   ]
  },
  {
   "cell_type": "code",
   "execution_count": 63,
   "id": "64b5b126",
   "metadata": {},
   "outputs": [
    {
     "data": {
      "text/plain": [
       "7"
      ]
     },
     "execution_count": 63,
     "metadata": {},
     "output_type": "execute_result"
    }
   ],
   "source": [
    "sampledInput.count()"
   ]
  },
  {
   "cell_type": "code",
   "execution_count": 64,
   "id": "93d7c90e",
   "metadata": {},
   "outputs": [
    {
     "data": {
      "text/plain": [
       "['Spark is built using [Apache Maven](https://maven.apache.org/).',\n",
       " '(You do not need to do this if you downloaded a pre-built package.)',\n",
       " '',\n",
       " '',\n",
       " 'There is also a Kubernetes integration test, see resource-managers/kubernetes/integration-tests/README.md',\n",
       " 'Please refer to the [Configuration Guide](https://spark.apache.org/docs/latest/configuration.html)',\n",
       " 'Please review the [Contribution to Spark guide](https://spark.apache.org/contributing.html)']"
      ]
     },
     "execution_count": 64,
     "metadata": {},
     "output_type": "execute_result"
    }
   ],
   "source": [
    "sampledInput.collect()"
   ]
  },
  {
   "cell_type": "code",
   "execution_count": 65,
   "id": "b45606d1",
   "metadata": {},
   "outputs": [
    {
     "data": {
      "text/plain": [
       "['',\n",
       " 'Spark also comes with several sample programs in the `examples` directory.',\n",
       " '',\n",
       " '',\n",
       " 'Spark is built using [Apache Maven](https://maven.apache.org/).',\n",
       " '',\n",
       " '[\"Building Spark\"](https://spark.apache.org/docs/latest/building-spark.html).',\n",
       " '',\n",
       " 'There is also a Kubernetes integration test, see resource-managers/kubernetes/integration-tests/README.md',\n",
       " 'Many of the example programs print usage help if no params are given.']"
      ]
     },
     "execution_count": 65,
     "metadata": {},
     "output_type": "execute_result"
    }
   ],
   "source": [
    "inputData.takeSample(False, 10, seed=0)"
   ]
  },
  {
   "cell_type": "code",
   "execution_count": null,
   "id": "153e7c90",
   "metadata": {},
   "outputs": [],
   "source": [
    "# sampledInput.saveAsTextFile(\"C://spark/data/dataSample\")"
   ]
  },
  {
   "cell_type": "markdown",
   "id": "6e66b70c",
   "metadata": {},
   "source": [
    "### RDD transformations\n",
    "\n",
    "- union(otherDataset)\n",
    "    - 합집합\n",
    "    - 그러나 실제로는 합집합이 아님.\n",
    "- intersection(otherDataset)\n",
    "    - 교집합\n",
    "- subtract(otherDataset)\n",
    "    - 차집합"
   ]
  },
  {
   "cell_type": "code",
   "execution_count": 67,
   "id": "eb888554",
   "metadata": {},
   "outputs": [],
   "source": [
    "allRDD = sc.parallelize(range(0,10))"
   ]
  },
  {
   "cell_type": "code",
   "execution_count": 68,
   "id": "ce41a0e6",
   "metadata": {},
   "outputs": [
    {
     "data": {
      "text/plain": [
       "[0, 1, 2, 3, 4, 5, 6, 7, 8, 9]"
      ]
     },
     "execution_count": 68,
     "metadata": {},
     "output_type": "execute_result"
    }
   ],
   "source": [
    "allRDD.collect()"
   ]
  },
  {
   "cell_type": "code",
   "execution_count": 69,
   "id": "2c396a29",
   "metadata": {},
   "outputs": [],
   "source": [
    "evenRDD = sc.parallelize([0, 2, 4, 6, 8])"
   ]
  },
  {
   "cell_type": "code",
   "execution_count": 70,
   "id": "94a9787e",
   "metadata": {},
   "outputs": [],
   "source": [
    "oddRDD = sc.parallelize([1, 3, 5, 7, 8])"
   ]
  },
  {
   "cell_type": "code",
   "execution_count": 73,
   "id": "6ca7b1a0",
   "metadata": {},
   "outputs": [
    {
     "data": {
      "text/plain": [
       "[0, 1, 2, 3, 4, 5, 6, 7, 8, 9, 0, 2, 4, 6, 8]"
      ]
     },
     "execution_count": 73,
     "metadata": {},
     "output_type": "execute_result"
    }
   ],
   "source": [
    "allRDD.union(evenRDD).collect()"
   ]
  },
  {
   "cell_type": "code",
   "execution_count": 74,
   "id": "84fe0484",
   "metadata": {},
   "outputs": [
    {
     "data": {
      "text/plain": [
       "[0, 2, 4, 6, 8, 1, 3, 5, 7, 9]"
      ]
     },
     "execution_count": 74,
     "metadata": {},
     "output_type": "execute_result"
    }
   ],
   "source": [
    "allRDD.union(evenRDD).distinct().collect()"
   ]
  },
  {
   "cell_type": "markdown",
   "id": "46699534",
   "metadata": {},
   "source": [
    "#### reduce(func)\n",
    "- 데이터 값을 반환\n",
    "- Transformation이 아니라 action임"
   ]
  },
  {
   "cell_type": "code",
   "execution_count": 75,
   "id": "9989ec04",
   "metadata": {},
   "outputs": [
    {
     "data": {
      "text/plain": [
       "45"
      ]
     },
     "execution_count": 75,
     "metadata": {},
     "output_type": "execute_result"
    }
   ],
   "source": [
    "allRDD.reduce(lambda x, y: x+y)"
   ]
  },
  {
   "cell_type": "markdown",
   "id": "5226c829",
   "metadata": {},
   "source": [
    "#### 숫자 RDD의 Actions\n",
    "- max()\n",
    "- min()\n",
    "- sum()\n",
    "- variance()\n",
    "- stdev()\n",
    "- stats()"
   ]
  },
  {
   "cell_type": "code",
   "execution_count": 76,
   "id": "5c3b5915",
   "metadata": {},
   "outputs": [
    {
     "data": {
      "text/plain": [
       "(count: 10, mean: 4.5, stdev: 2.8722813232690143, max: 9.0, min: 0.0)"
      ]
     },
     "execution_count": 76,
     "metadata": {},
     "output_type": "execute_result"
    }
   ],
   "source": [
    "allRDD.stats()"
   ]
  },
  {
   "cell_type": "markdown",
   "id": "1f5d2049",
   "metadata": {},
   "source": [
    "### Pair RDD transformations\n",
    "- ReduceByKey\n",
    "- SortByKey\n",
    "- Keys\n",
    "    - 키 만으로 구성된 RDD를 생성\n",
    "- values\n",
    "    - Value 들만으로 구성된 RDD를 생성\n",
    "- keyBy\n",
    "    - 임의의 컬럼을 key로 지정\n",
    "- groupByKey()\n",
    "    - It takes key-value pair (K,V) as an input\n",
    "      produces RDD with key and list of values\n",
    "    - reduceByKey를 사용할 수 있을 경우\n",
    "      groupByKey는 가능하면 사용하지 않는 것이 좋음."
   ]
  },
  {
   "cell_type": "code",
   "execution_count": 80,
   "id": "8c031412",
   "metadata": {},
   "outputs": [],
   "source": [
    "lines = sc.textFile(\"C://spark/README.md\")"
   ]
  },
  {
   "cell_type": "code",
   "execution_count": 87,
   "id": "98ac8bf2",
   "metadata": {},
   "outputs": [],
   "source": [
    "import re\n",
    "\n",
    "words = lines.flatMap(lambda line: re.split('\\\\W+', line)) \\\n",
    "             .filter(lambda word: len(word) > 0) \\\n",
    "             .map(lambda word: word.lower())"
   ]
  },
  {
   "cell_type": "code",
   "execution_count": 88,
   "id": "8bb782cb",
   "metadata": {},
   "outputs": [
    {
     "data": {
      "text/plain": [
       "['apache', 'spark', 'spark']"
      ]
     },
     "execution_count": 88,
     "metadata": {},
     "output_type": "execute_result"
    }
   ],
   "source": [
    "words.take(3)"
   ]
  },
  {
   "cell_type": "code",
   "execution_count": 89,
   "id": "35995a7b",
   "metadata": {},
   "outputs": [
    {
     "data": {
      "text/plain": [
       "defaultdict(int,\n",
       "            {'apache': 11,\n",
       "             'spark': 38,\n",
       "             'is': 7,\n",
       "             'a': 10,\n",
       "             'unified': 1,\n",
       "             'analytics': 1,\n",
       "             'engine': 2,\n",
       "             'for': 15,\n",
       "             'large': 1,\n",
       "             'scale': 1,\n",
       "             'data': 2,\n",
       "             'processing': 3,\n",
       "             'it': 2,\n",
       "             'provides': 1,\n",
       "             'high': 1,\n",
       "             'level': 2,\n",
       "             'apis': 1,\n",
       "             'in': 5,\n",
       "             'scala': 4,\n",
       "             'java': 1,\n",
       "             'python': 4,\n",
       "             'and': 11,\n",
       "             'r': 1,\n",
       "             'an': 4,\n",
       "             'optimized': 1,\n",
       "             'that': 2,\n",
       "             'supports': 2,\n",
       "             'general': 2,\n",
       "             'computation': 1,\n",
       "             'graphs': 1,\n",
       "             'analysis': 1,\n",
       "             'also': 5,\n",
       "             'rich': 1,\n",
       "             'set': 2,\n",
       "             'of': 5,\n",
       "             'higher': 1,\n",
       "             'tools': 4,\n",
       "             'including': 4,\n",
       "             'sql': 2,\n",
       "             'dataframes': 1,\n",
       "             'mllib': 1,\n",
       "             'machine': 1,\n",
       "             'learning': 1,\n",
       "             'graphx': 1,\n",
       "             'graph': 1,\n",
       "             'structured': 1,\n",
       "             'streaming': 1,\n",
       "             'stream': 1,\n",
       "             'https': 16,\n",
       "             'org': 9,\n",
       "             'jenkins': 3,\n",
       "             'build': 6,\n",
       "             'amplab': 2,\n",
       "             'cs': 2,\n",
       "             'berkeley': 2,\n",
       "             'edu': 2,\n",
       "             'job': 2,\n",
       "             'master': 5,\n",
       "             'test': 5,\n",
       "             'sbt': 2,\n",
       "             'hadoop': 9,\n",
       "             '2': 4,\n",
       "             '7': 2,\n",
       "             'hive': 4,\n",
       "             '3': 2,\n",
       "             'badge': 2,\n",
       "             'icon': 1,\n",
       "             'appveyor': 4,\n",
       "             'img': 2,\n",
       "             'shields': 2,\n",
       "             'io': 4,\n",
       "             'ci': 2,\n",
       "             'apachesoftwarefoundation': 2,\n",
       "             'svg': 2,\n",
       "             'style': 2,\n",
       "             'plastic': 2,\n",
       "             'logo': 1,\n",
       "             'com': 1,\n",
       "             'project': 4,\n",
       "             'pyspark': 4,\n",
       "             'coverage': 3,\n",
       "             'dynamic': 1,\n",
       "             'xml': 1,\n",
       "             'label': 1,\n",
       "             '20coverage': 1,\n",
       "             'url': 2,\n",
       "             '3a': 1,\n",
       "             '2f': 1,\n",
       "             '2fspark': 1,\n",
       "             'github': 2,\n",
       "             '2fpyspark': 1,\n",
       "             'site': 3,\n",
       "             'query': 1,\n",
       "             '2fhtml': 1,\n",
       "             '2fbody': 1,\n",
       "             '2fdiv': 2,\n",
       "             '5b1': 1,\n",
       "             '5d': 1,\n",
       "             '2fh1': 1,\n",
       "             '2fspan': 1,\n",
       "             'colorb': 1,\n",
       "             'brightgreen': 1,\n",
       "             'online': 2,\n",
       "             'documentation': 6,\n",
       "             'you': 8,\n",
       "             'can': 6,\n",
       "             'find': 1,\n",
       "             'the': 25,\n",
       "             'latest': 4,\n",
       "             'programming': 1,\n",
       "             'guide': 3,\n",
       "             'on': 7,\n",
       "             'web': 1,\n",
       "             'page': 1,\n",
       "             'html': 7,\n",
       "             'this': 3,\n",
       "             'readme': 2,\n",
       "             'file': 1,\n",
       "             'only': 1,\n",
       "             'contains': 1,\n",
       "             'basic': 1,\n",
       "             'setup': 1,\n",
       "             'instructions': 1,\n",
       "             'building': 8,\n",
       "             'built': 3,\n",
       "             'using': 4,\n",
       "             'maven': 2,\n",
       "             'to': 18,\n",
       "             'its': 1,\n",
       "             'example': 8,\n",
       "             'programs': 4,\n",
       "             'run': 13,\n",
       "             'mvn': 1,\n",
       "             'dskiptests': 1,\n",
       "             'clean': 1,\n",
       "             'package': 3,\n",
       "             'do': 2,\n",
       "             'not': 1,\n",
       "             'need': 1,\n",
       "             'if': 4,\n",
       "             'downloaded': 1,\n",
       "             'pre': 1,\n",
       "             'more': 1,\n",
       "             'detailed': 2,\n",
       "             'available': 1,\n",
       "             'from': 1,\n",
       "             'at': 2,\n",
       "             'docs': 3,\n",
       "             'development': 1,\n",
       "             'tips': 1,\n",
       "             'info': 1,\n",
       "             'developing': 1,\n",
       "             'ide': 1,\n",
       "             'see': 3,\n",
       "             'useful': 1,\n",
       "             'developer': 3,\n",
       "             'interactive': 2,\n",
       "             'shell': 5,\n",
       "             'easiest': 1,\n",
       "             'way': 1,\n",
       "             'start': 1,\n",
       "             'through': 1,\n",
       "             'bin': 5,\n",
       "             'try': 1,\n",
       "             'following': 2,\n",
       "             'command': 2,\n",
       "             'which': 2,\n",
       "             'should': 2,\n",
       "             'return': 2,\n",
       "             '1': 2,\n",
       "             '000': 6,\n",
       "             'range': 2,\n",
       "             '1000': 6,\n",
       "             'count': 2,\n",
       "             'alternatively': 1,\n",
       "             'prefer': 1,\n",
       "             'use': 3,\n",
       "             'comes': 1,\n",
       "             'with': 3,\n",
       "             'several': 1,\n",
       "             'sample': 1,\n",
       "             'examples': 4,\n",
       "             'directory': 1,\n",
       "             'one': 2,\n",
       "             'them': 1,\n",
       "             'class': 3,\n",
       "             'params': 2,\n",
       "             'sparkpi': 2,\n",
       "             'will': 1,\n",
       "             'pi': 1,\n",
       "             'locally': 3,\n",
       "             'environment': 1,\n",
       "             'variable': 1,\n",
       "             'when': 1,\n",
       "             'running': 2,\n",
       "             'submit': 1,\n",
       "             'cluster': 2,\n",
       "             'be': 2,\n",
       "             'mesos': 1,\n",
       "             'or': 3,\n",
       "             'yarn': 4,\n",
       "             'local': 2,\n",
       "             'thread': 1,\n",
       "             'n': 2,\n",
       "             'threads': 1,\n",
       "             'abbreviated': 1,\n",
       "             'name': 1,\n",
       "             'instance': 1,\n",
       "             'host': 1,\n",
       "             '7077': 1,\n",
       "             'many': 1,\n",
       "             'print': 1,\n",
       "             'usage': 1,\n",
       "             'help': 1,\n",
       "             'no': 1,\n",
       "             'are': 1,\n",
       "             'given': 1,\n",
       "             'tests': 7,\n",
       "             'testing': 1,\n",
       "             'first': 1,\n",
       "             'requires': 1,\n",
       "             'once': 1,\n",
       "             'dev': 1,\n",
       "             'please': 4,\n",
       "             'guidance': 2,\n",
       "             'how': 3,\n",
       "             'module': 1,\n",
       "             'individual': 2,\n",
       "             'there': 1,\n",
       "             'kubernetes': 2,\n",
       "             'integration': 2,\n",
       "             'resource': 1,\n",
       "             'managers': 1,\n",
       "             'md': 1,\n",
       "             'note': 1,\n",
       "             'about': 1,\n",
       "             'versions': 2,\n",
       "             'uses': 1,\n",
       "             'core': 1,\n",
       "             'library': 1,\n",
       "             'talk': 1,\n",
       "             'hdfs': 1,\n",
       "             'other': 1,\n",
       "             'supported': 1,\n",
       "             'storage': 1,\n",
       "             'systems': 1,\n",
       "             'because': 1,\n",
       "             'protocols': 1,\n",
       "             'have': 1,\n",
       "             'changed': 1,\n",
       "             'different': 1,\n",
       "             'must': 1,\n",
       "             'against': 1,\n",
       "             'same': 1,\n",
       "             'version': 3,\n",
       "             'your': 1,\n",
       "             'runs': 1,\n",
       "             'refer': 2,\n",
       "             'specifying': 2,\n",
       "             'enabling': 2,\n",
       "             'particular': 2,\n",
       "             'distribution': 1,\n",
       "             'thriftserver': 1,\n",
       "             'distributions': 1,\n",
       "             'configuration': 3,\n",
       "             'overview': 1,\n",
       "             'configure': 1,\n",
       "             'contributing': 3,\n",
       "             'review': 1,\n",
       "             'contribution': 1,\n",
       "             'information': 1,\n",
       "             'get': 1,\n",
       "             'started': 1})"
      ]
     },
     "execution_count": 89,
     "metadata": {},
     "output_type": "execute_result"
    }
   ],
   "source": [
    "words.countByValue()"
   ]
  },
  {
   "cell_type": "code",
   "execution_count": 91,
   "id": "3c549efe",
   "metadata": {},
   "outputs": [],
   "source": [
    "wordAndOne = words.map(lambda word: (word,1))"
   ]
  },
  {
   "cell_type": "code",
   "execution_count": 92,
   "id": "63615fc3",
   "metadata": {},
   "outputs": [
    {
     "data": {
      "text/plain": [
       "defaultdict(int,\n",
       "            {'apache': 11,\n",
       "             'spark': 38,\n",
       "             'is': 7,\n",
       "             'a': 10,\n",
       "             'unified': 1,\n",
       "             'analytics': 1,\n",
       "             'engine': 2,\n",
       "             'for': 15,\n",
       "             'large': 1,\n",
       "             'scale': 1,\n",
       "             'data': 2,\n",
       "             'processing': 3,\n",
       "             'it': 2,\n",
       "             'provides': 1,\n",
       "             'high': 1,\n",
       "             'level': 2,\n",
       "             'apis': 1,\n",
       "             'in': 5,\n",
       "             'scala': 4,\n",
       "             'java': 1,\n",
       "             'python': 4,\n",
       "             'and': 11,\n",
       "             'r': 1,\n",
       "             'an': 4,\n",
       "             'optimized': 1,\n",
       "             'that': 2,\n",
       "             'supports': 2,\n",
       "             'general': 2,\n",
       "             'computation': 1,\n",
       "             'graphs': 1,\n",
       "             'analysis': 1,\n",
       "             'also': 5,\n",
       "             'rich': 1,\n",
       "             'set': 2,\n",
       "             'of': 5,\n",
       "             'higher': 1,\n",
       "             'tools': 4,\n",
       "             'including': 4,\n",
       "             'sql': 2,\n",
       "             'dataframes': 1,\n",
       "             'mllib': 1,\n",
       "             'machine': 1,\n",
       "             'learning': 1,\n",
       "             'graphx': 1,\n",
       "             'graph': 1,\n",
       "             'structured': 1,\n",
       "             'streaming': 1,\n",
       "             'stream': 1,\n",
       "             'https': 16,\n",
       "             'org': 9,\n",
       "             'jenkins': 3,\n",
       "             'build': 6,\n",
       "             'amplab': 2,\n",
       "             'cs': 2,\n",
       "             'berkeley': 2,\n",
       "             'edu': 2,\n",
       "             'job': 2,\n",
       "             'master': 5,\n",
       "             'test': 5,\n",
       "             'sbt': 2,\n",
       "             'hadoop': 9,\n",
       "             '2': 4,\n",
       "             '7': 2,\n",
       "             'hive': 4,\n",
       "             '3': 2,\n",
       "             'badge': 2,\n",
       "             'icon': 1,\n",
       "             'appveyor': 4,\n",
       "             'img': 2,\n",
       "             'shields': 2,\n",
       "             'io': 4,\n",
       "             'ci': 2,\n",
       "             'apachesoftwarefoundation': 2,\n",
       "             'svg': 2,\n",
       "             'style': 2,\n",
       "             'plastic': 2,\n",
       "             'logo': 1,\n",
       "             'com': 1,\n",
       "             'project': 4,\n",
       "             'pyspark': 4,\n",
       "             'coverage': 3,\n",
       "             'dynamic': 1,\n",
       "             'xml': 1,\n",
       "             'label': 1,\n",
       "             '20coverage': 1,\n",
       "             'url': 2,\n",
       "             '3a': 1,\n",
       "             '2f': 1,\n",
       "             '2fspark': 1,\n",
       "             'github': 2,\n",
       "             '2fpyspark': 1,\n",
       "             'site': 3,\n",
       "             'query': 1,\n",
       "             '2fhtml': 1,\n",
       "             '2fbody': 1,\n",
       "             '2fdiv': 2,\n",
       "             '5b1': 1,\n",
       "             '5d': 1,\n",
       "             '2fh1': 1,\n",
       "             '2fspan': 1,\n",
       "             'colorb': 1,\n",
       "             'brightgreen': 1,\n",
       "             'online': 2,\n",
       "             'documentation': 6,\n",
       "             'you': 8,\n",
       "             'can': 6,\n",
       "             'find': 1,\n",
       "             'the': 25,\n",
       "             'latest': 4,\n",
       "             'programming': 1,\n",
       "             'guide': 3,\n",
       "             'on': 7,\n",
       "             'web': 1,\n",
       "             'page': 1,\n",
       "             'html': 7,\n",
       "             'this': 3,\n",
       "             'readme': 2,\n",
       "             'file': 1,\n",
       "             'only': 1,\n",
       "             'contains': 1,\n",
       "             'basic': 1,\n",
       "             'setup': 1,\n",
       "             'instructions': 1,\n",
       "             'building': 8,\n",
       "             'built': 3,\n",
       "             'using': 4,\n",
       "             'maven': 2,\n",
       "             'to': 18,\n",
       "             'its': 1,\n",
       "             'example': 8,\n",
       "             'programs': 4,\n",
       "             'run': 13,\n",
       "             'mvn': 1,\n",
       "             'dskiptests': 1,\n",
       "             'clean': 1,\n",
       "             'package': 3,\n",
       "             'do': 2,\n",
       "             'not': 1,\n",
       "             'need': 1,\n",
       "             'if': 4,\n",
       "             'downloaded': 1,\n",
       "             'pre': 1,\n",
       "             'more': 1,\n",
       "             'detailed': 2,\n",
       "             'available': 1,\n",
       "             'from': 1,\n",
       "             'at': 2,\n",
       "             'docs': 3,\n",
       "             'development': 1,\n",
       "             'tips': 1,\n",
       "             'info': 1,\n",
       "             'developing': 1,\n",
       "             'ide': 1,\n",
       "             'see': 3,\n",
       "             'useful': 1,\n",
       "             'developer': 3,\n",
       "             'interactive': 2,\n",
       "             'shell': 5,\n",
       "             'easiest': 1,\n",
       "             'way': 1,\n",
       "             'start': 1,\n",
       "             'through': 1,\n",
       "             'bin': 5,\n",
       "             'try': 1,\n",
       "             'following': 2,\n",
       "             'command': 2,\n",
       "             'which': 2,\n",
       "             'should': 2,\n",
       "             'return': 2,\n",
       "             '1': 2,\n",
       "             '000': 6,\n",
       "             'range': 2,\n",
       "             '1000': 6,\n",
       "             'count': 2,\n",
       "             'alternatively': 1,\n",
       "             'prefer': 1,\n",
       "             'use': 3,\n",
       "             'comes': 1,\n",
       "             'with': 3,\n",
       "             'several': 1,\n",
       "             'sample': 1,\n",
       "             'examples': 4,\n",
       "             'directory': 1,\n",
       "             'one': 2,\n",
       "             'them': 1,\n",
       "             'class': 3,\n",
       "             'params': 2,\n",
       "             'sparkpi': 2,\n",
       "             'will': 1,\n",
       "             'pi': 1,\n",
       "             'locally': 3,\n",
       "             'environment': 1,\n",
       "             'variable': 1,\n",
       "             'when': 1,\n",
       "             'running': 2,\n",
       "             'submit': 1,\n",
       "             'cluster': 2,\n",
       "             'be': 2,\n",
       "             'mesos': 1,\n",
       "             'or': 3,\n",
       "             'yarn': 4,\n",
       "             'local': 2,\n",
       "             'thread': 1,\n",
       "             'n': 2,\n",
       "             'threads': 1,\n",
       "             'abbreviated': 1,\n",
       "             'name': 1,\n",
       "             'instance': 1,\n",
       "             'host': 1,\n",
       "             '7077': 1,\n",
       "             'many': 1,\n",
       "             'print': 1,\n",
       "             'usage': 1,\n",
       "             'help': 1,\n",
       "             'no': 1,\n",
       "             'are': 1,\n",
       "             'given': 1,\n",
       "             'tests': 7,\n",
       "             'testing': 1,\n",
       "             'first': 1,\n",
       "             'requires': 1,\n",
       "             'once': 1,\n",
       "             'dev': 1,\n",
       "             'please': 4,\n",
       "             'guidance': 2,\n",
       "             'how': 3,\n",
       "             'module': 1,\n",
       "             'individual': 2,\n",
       "             'there': 1,\n",
       "             'kubernetes': 2,\n",
       "             'integration': 2,\n",
       "             'resource': 1,\n",
       "             'managers': 1,\n",
       "             'md': 1,\n",
       "             'note': 1,\n",
       "             'about': 1,\n",
       "             'versions': 2,\n",
       "             'uses': 1,\n",
       "             'core': 1,\n",
       "             'library': 1,\n",
       "             'talk': 1,\n",
       "             'hdfs': 1,\n",
       "             'other': 1,\n",
       "             'supported': 1,\n",
       "             'storage': 1,\n",
       "             'systems': 1,\n",
       "             'because': 1,\n",
       "             'protocols': 1,\n",
       "             'have': 1,\n",
       "             'changed': 1,\n",
       "             'different': 1,\n",
       "             'must': 1,\n",
       "             'against': 1,\n",
       "             'same': 1,\n",
       "             'version': 3,\n",
       "             'your': 1,\n",
       "             'runs': 1,\n",
       "             'refer': 2,\n",
       "             'specifying': 2,\n",
       "             'enabling': 2,\n",
       "             'particular': 2,\n",
       "             'distribution': 1,\n",
       "             'thriftserver': 1,\n",
       "             'distributions': 1,\n",
       "             'configuration': 3,\n",
       "             'overview': 1,\n",
       "             'configure': 1,\n",
       "             'contributing': 3,\n",
       "             'review': 1,\n",
       "             'contribution': 1,\n",
       "             'information': 1,\n",
       "             'get': 1,\n",
       "             'started': 1})"
      ]
     },
     "execution_count": 92,
     "metadata": {},
     "output_type": "execute_result"
    }
   ],
   "source": [
    "wordAndOne.countByKey()"
   ]
  },
  {
   "cell_type": "code",
   "execution_count": 93,
   "id": "ff24b430",
   "metadata": {},
   "outputs": [],
   "source": [
    "wordCount = wordAndOne.reduceByKey(lambda v1, v2: v1 + v2)"
   ]
  },
  {
   "cell_type": "code",
   "execution_count": 94,
   "id": "e060e966",
   "metadata": {},
   "outputs": [
    {
     "data": {
      "text/plain": [
       "[('apache', 11), ('spark', 38), ('is', 7), ('a', 10), ('unified', 1)]"
      ]
     },
     "execution_count": 94,
     "metadata": {},
     "output_type": "execute_result"
    }
   ],
   "source": [
    "wordCount.take(5)"
   ]
  },
  {
   "cell_type": "code",
   "execution_count": 95,
   "id": "2435ca74",
   "metadata": {},
   "outputs": [
    {
     "data": {
      "text/plain": [
       "[('apache', 22), ('spark', 76), ('is', 14), ('a', 20), ('unified', 2)]"
      ]
     },
     "execution_count": 95,
     "metadata": {},
     "output_type": "execute_result"
    }
   ],
   "source": [
    "wordCount.mapValues(lambda v: v+v).take(5)"
   ]
  }
 ],
 "metadata": {
  "kernelspec": {
   "display_name": "Python 3",
   "language": "python",
   "name": "python3"
  },
  "language_info": {
   "codemirror_mode": {
    "name": "ipython",
    "version": 3
   },
   "file_extension": ".py",
   "mimetype": "text/x-python",
   "name": "python",
   "nbconvert_exporter": "python",
   "pygments_lexer": "ipython3",
   "version": "3.8.8"
  }
 },
 "nbformat": 4,
 "nbformat_minor": 5
}
