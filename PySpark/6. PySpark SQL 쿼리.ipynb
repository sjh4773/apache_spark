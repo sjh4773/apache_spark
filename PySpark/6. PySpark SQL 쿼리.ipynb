{
 "cells": [
  {
   "cell_type": "code",
   "execution_count": 1,
   "id": "ce3efa7c",
   "metadata": {},
   "outputs": [],
   "source": [
    "import findspark"
   ]
  },
  {
   "cell_type": "code",
   "execution_count": 2,
   "id": "cb927306",
   "metadata": {},
   "outputs": [],
   "source": [
    "findspark.init()"
   ]
  },
  {
   "cell_type": "code",
   "execution_count": 3,
   "id": "30f1ee32",
   "metadata": {},
   "outputs": [],
   "source": [
    "import pyspark\n",
    "import pyspark.sql"
   ]
  },
  {
   "cell_type": "code",
   "execution_count": 4,
   "id": "1f9444b6",
   "metadata": {},
   "outputs": [],
   "source": [
    "import pyspark.sql.functions as F"
   ]
  },
  {
   "cell_type": "code",
   "execution_count": 5,
   "id": "af6e672e",
   "metadata": {},
   "outputs": [],
   "source": [
    "spark = pyspark.sql.SparkSession.builder.master(\"local\").getOrCreate()"
   ]
  },
  {
   "cell_type": "code",
   "execution_count": 6,
   "id": "cc12b100",
   "metadata": {},
   "outputs": [],
   "source": [
    "dessertMenuDF = spark.read.format(\"csv\").option(\"header\",\"true\").option(\"inferSchema\",\"true\").load(\"C://spark/data/dessert-menu.csv\")"
   ]
  },
  {
   "cell_type": "code",
   "execution_count": 7,
   "id": "be67dc7d",
   "metadata": {},
   "outputs": [
    {
     "name": "stdout",
     "output_type": "stream",
     "text": [
      "+------+---------------+-----+----+\n",
      "|menuId|           name|price|kcal|\n",
      "+------+---------------+-----+----+\n",
      "|   D-0|  초콜릿 파르페| 4900| 420|\n",
      "|   D-1|    푸딩 파르페| 5300| 380|\n",
      "|   D-2|    딸기 파르페| 5200| 320|\n",
      "|   D-3|       판나코타| 4200| 283|\n",
      "|   D-4|      치즈 무스| 5800| 288|\n",
      "|   D-5|       아포가토| 3000| 248|\n",
      "|   D-6|       티라미스| 6000| 251|\n",
      "|   D-7|    녹차 파르페| 4500| 380|\n",
      "|   D-8|  바닐라 젤라또| 3600| 131|\n",
      "|   D-9|  카라멜 팬케익| 3900| 440|\n",
      "|  D-10|    크림 안미츠| 5000| 250|\n",
      "|  D-11|  고구마 파르페| 6500| 650|\n",
      "|  D-12|      녹차 빙수| 3800| 320|\n",
      "|  D-13|  초코 크레이프| 3700| 300|\n",
      "|  D-14|바나나 크레이프| 3300| 220|\n",
      "|  D-15|  커스터드 푸딩| 2000| 120|\n",
      "|  D-16|    초코 토르테| 3300| 220|\n",
      "|  D-17|    치즈 수플레| 2200| 160|\n",
      "|  D-18|    호박 타르트| 3400| 230|\n",
      "|  D-19|      캬라멜 롤| 3700| 230|\n",
      "+------+---------------+-----+----+\n",
      "only showing top 20 rows\n",
      "\n"
     ]
    }
   ],
   "source": [
    "dessertMenuDF.show()"
   ]
  },
  {
   "cell_type": "code",
   "execution_count": 8,
   "id": "b12b1e86",
   "metadata": {},
   "outputs": [
    {
     "name": "stdout",
     "output_type": "stream",
     "text": [
      "root\n",
      " |-- menuId: string (nullable = true)\n",
      " |-- name: string (nullable = true)\n",
      " |-- price: integer (nullable = true)\n",
      " |-- kcal: integer (nullable = true)\n",
      "\n"
     ]
    }
   ],
   "source": [
    "dessertMenuDF.printSchema()"
   ]
  },
  {
   "cell_type": "code",
   "execution_count": 9,
   "id": "f25a6d24",
   "metadata": {},
   "outputs": [],
   "source": [
    "dessertOrderDF = spark.read.format(\"csv\").option(\"header\",\"False\").option(\"inferSchema\",\"true\").load(\"C://spark/data/dessert-order.csv\")"
   ]
  },
  {
   "cell_type": "code",
   "execution_count": 10,
   "id": "8c03ff1e",
   "metadata": {},
   "outputs": [
    {
     "name": "stdout",
     "output_type": "stream",
     "text": [
      "+-----+----+---+\n",
      "|  _c0| _c1|_c2|\n",
      "+-----+----+---+\n",
      "|SID-0| D-0|  2|\n",
      "|SID-0| D-3|  1|\n",
      "|SID-1|D-10|  4|\n",
      "|SID-2| D-5|  1|\n",
      "|SID-2| D-8|  1|\n",
      "|SID-2|D-20|  1|\n",
      "+-----+----+---+\n",
      "\n"
     ]
    }
   ],
   "source": [
    "dessertOrderDF.show()"
   ]
  },
  {
   "cell_type": "code",
   "execution_count": 11,
   "id": "2b145845",
   "metadata": {},
   "outputs": [],
   "source": [
    "dessertOrderDF = dessertOrderDF.withColumnRenamed(\"_c0\",\"orderId\").withColumnRenamed(\"_c1\",\"menuId\").withColumnRenamed(\"_c2\",\"number\")"
   ]
  },
  {
   "cell_type": "code",
   "execution_count": 12,
   "id": "a11cc933",
   "metadata": {},
   "outputs": [
    {
     "name": "stdout",
     "output_type": "stream",
     "text": [
      "root\n",
      " |-- orderId: string (nullable = true)\n",
      " |-- menuId: string (nullable = true)\n",
      " |-- number: integer (nullable = true)\n",
      "\n"
     ]
    }
   ],
   "source": [
    "dessertOrderDF.printSchema()"
   ]
  },
  {
   "cell_type": "code",
   "execution_count": 13,
   "id": "145c74bb",
   "metadata": {},
   "outputs": [
    {
     "name": "stdout",
     "output_type": "stream",
     "text": [
      "+-------+------+------+\n",
      "|orderId|menuId|number|\n",
      "+-------+------+------+\n",
      "|  SID-0|   D-0|     2|\n",
      "|  SID-0|   D-3|     1|\n",
      "|  SID-1|  D-10|     4|\n",
      "|  SID-2|   D-5|     1|\n",
      "|  SID-2|   D-8|     1|\n",
      "|  SID-2|  D-20|     1|\n",
      "+-------+------+------+\n",
      "\n"
     ]
    }
   ],
   "source": [
    "dessertOrderDF.show()"
   ]
  },
  {
   "cell_type": "code",
   "execution_count": 14,
   "id": "4f785bbd",
   "metadata": {},
   "outputs": [],
   "source": [
    "joinDF = dessertOrderDF.join(dessertMenuDF, dessertMenuDF.menuId == dessertOrderDF.menuId)"
   ]
  },
  {
   "cell_type": "code",
   "execution_count": 15,
   "id": "84531a30",
   "metadata": {},
   "outputs": [
    {
     "name": "stdout",
     "output_type": "stream",
     "text": [
      "+-------+------+------+------+-------------+-----+----+\n",
      "|orderId|menuId|number|menuId|         name|price|kcal|\n",
      "+-------+------+------+------+-------------+-----+----+\n",
      "|  SID-0|   D-0|     2|   D-0|초콜릿 파르페| 4900| 420|\n",
      "|  SID-0|   D-3|     1|   D-3|     판나코타| 4200| 283|\n",
      "|  SID-2|   D-5|     1|   D-5|     아포가토| 3000| 248|\n",
      "|  SID-2|   D-8|     1|   D-8|바닐라 젤라또| 3600| 131|\n",
      "|  SID-1|  D-10|     4|  D-10|  크림 안미츠| 5000| 250|\n",
      "|  SID-2|  D-20|     1|  D-20|    치즈 케익| 4000| 230|\n",
      "+-------+------+------+------+-------------+-----+----+\n",
      "\n"
     ]
    }
   ],
   "source": [
    "joinDF.show()"
   ]
  },
  {
   "cell_type": "code",
   "execution_count": 16,
   "id": "c332ce94",
   "metadata": {},
   "outputs": [
    {
     "name": "stdout",
     "output_type": "stream",
     "text": [
      "+-------+------+------+------+---------------+-----+----+\n",
      "|orderId|menuId|number|menuId|           name|price|kcal|\n",
      "+-------+------+------+------+---------------+-----+----+\n",
      "|   null|  null|  null|   D-2|    딸기 파르페| 5200| 320|\n",
      "|   null|  null|  null|  D-13|  초코 크레이프| 3700| 300|\n",
      "|   null|  null|  null|  D-21|      애플 파이| 4400| 350|\n",
      "|  SID-0|   D-3|     1|   D-3|       판나코타| 4200| 283|\n",
      "|   null|  null|  null|  D-14|바나나 크레이프| 3300| 220|\n",
      "|  SID-2|   D-5|     1|   D-5|       아포가토| 3000| 248|\n",
      "|   null|  null|  null|   D-4|      치즈 무스| 5800| 288|\n",
      "|   null|  null|  null|  D-15|  커스터드 푸딩| 2000| 120|\n",
      "|   null|  null|  null|   D-9|  카라멜 팬케익| 3900| 440|\n",
      "|   null|  null|  null|  D-17|    치즈 수플레| 2200| 160|\n",
      "|   null|  null|  null|  D-11|  고구마 파르페| 6500| 650|\n",
      "|   null|  null|  null|   D-7|    녹차 파르페| 4500| 380|\n",
      "|   null|  null|  null|  D-18|    호박 타르트| 3400| 230|\n",
      "|   null|  null|  null|  D-12|      녹차 빙수| 3800| 320|\n",
      "|   null|  null|  null|   D-6|       티라미스| 6000| 251|\n",
      "|   null|  null|  null|  D-22|         몽블랑| 4700| 290|\n",
      "|  SID-1|  D-10|     4|  D-10|    크림 안미츠| 5000| 250|\n",
      "|  SID-2|  D-20|     1|  D-20|      치즈 케익| 4000| 230|\n",
      "|  SID-2|   D-8|     1|   D-8|  바닐라 젤라또| 3600| 131|\n",
      "|   null|  null|  null|  D-19|      캬라멜 롤| 3700| 230|\n",
      "+-------+------+------+------+---------------+-----+----+\n",
      "only showing top 20 rows\n",
      "\n"
     ]
    }
   ],
   "source": [
    "dessertOrderDF.join(dessertMenuDF, dessertMenuDF.menuId == dessertOrderDF.menuId, \"outer\").show()"
   ]
  },
  {
   "cell_type": "code",
   "execution_count": 17,
   "id": "98765de0",
   "metadata": {},
   "outputs": [
    {
     "name": "stdout",
     "output_type": "stream",
     "text": [
      "+-------+------+------+------+---------------+-----+----+\n",
      "|orderId|menuId|number|menuId|           name|price|kcal|\n",
      "+-------+------+------+------+---------------+-----+----+\n",
      "|   null|  null|  null|   D-2|    딸기 파르페| 5200| 320|\n",
      "|   null|  null|  null|  D-13|  초코 크레이프| 3700| 300|\n",
      "|   null|  null|  null|  D-21|      애플 파이| 4400| 350|\n",
      "|  SID-0|   D-3|     1|   D-3|       판나코타| 4200| 283|\n",
      "|   null|  null|  null|  D-14|바나나 크레이프| 3300| 220|\n",
      "|  SID-2|   D-5|     1|   D-5|       아포가토| 3000| 248|\n",
      "|   null|  null|  null|   D-4|      치즈 무스| 5800| 288|\n",
      "|   null|  null|  null|  D-15|  커스터드 푸딩| 2000| 120|\n",
      "|   null|  null|  null|   D-9|  카라멜 팬케익| 3900| 440|\n",
      "|   null|  null|  null|  D-17|    치즈 수플레| 2200| 160|\n",
      "|   null|  null|  null|  D-11|  고구마 파르페| 6500| 650|\n",
      "|   null|  null|  null|   D-7|    녹차 파르페| 4500| 380|\n",
      "|   null|  null|  null|  D-18|    호박 타르트| 3400| 230|\n",
      "|   null|  null|  null|  D-12|      녹차 빙수| 3800| 320|\n",
      "|   null|  null|  null|   D-6|       티라미스| 6000| 251|\n",
      "|   null|  null|  null|  D-22|         몽블랑| 4700| 290|\n",
      "|  SID-1|  D-10|     4|  D-10|    크림 안미츠| 5000| 250|\n",
      "|  SID-2|  D-20|     1|  D-20|      치즈 케익| 4000| 230|\n",
      "|  SID-2|   D-8|     1|   D-8|  바닐라 젤라또| 3600| 131|\n",
      "|   null|  null|  null|  D-19|      캬라멜 롤| 3700| 230|\n",
      "+-------+------+------+------+---------------+-----+----+\n",
      "only showing top 20 rows\n",
      "\n"
     ]
    }
   ],
   "source": [
    "dessertOrderDF.join(dessertMenuDF, dessertMenuDF.menuId == dessertOrderDF.menuId, \"full_outer\").show()"
   ]
  },
  {
   "cell_type": "code",
   "execution_count": 18,
   "id": "ace1509e",
   "metadata": {},
   "outputs": [
    {
     "name": "stdout",
     "output_type": "stream",
     "text": [
      "+-------+------+------+------+-------------+-----+----+\n",
      "|orderId|menuId|number|menuId|         name|price|kcal|\n",
      "+-------+------+------+------+-------------+-----+----+\n",
      "|  SID-0|   D-0|     2|   D-0|초콜릿 파르페| 4900| 420|\n",
      "|  SID-0|   D-3|     1|   D-3|     판나코타| 4200| 283|\n",
      "|  SID-1|  D-10|     4|  D-10|  크림 안미츠| 5000| 250|\n",
      "|  SID-2|   D-5|     1|   D-5|     아포가토| 3000| 248|\n",
      "|  SID-2|   D-8|     1|   D-8|바닐라 젤라또| 3600| 131|\n",
      "|  SID-2|  D-20|     1|  D-20|    치즈 케익| 4000| 230|\n",
      "+-------+------+------+------+-------------+-----+----+\n",
      "\n"
     ]
    }
   ],
   "source": [
    "dessertOrderDF.join(dessertMenuDF, dessertMenuDF.menuId == dessertOrderDF.menuId, \"left_outer\").show()"
   ]
  },
  {
   "cell_type": "code",
   "execution_count": 19,
   "id": "19b0f9f6",
   "metadata": {},
   "outputs": [
    {
     "name": "stdout",
     "output_type": "stream",
     "text": [
      "+-------+------+------+------+---------------+-----+----+\n",
      "|orderId|menuId|number|menuId|           name|price|kcal|\n",
      "+-------+------+------+------+---------------+-----+----+\n",
      "|  SID-0|   D-0|     2|   D-0|  초콜릿 파르페| 4900| 420|\n",
      "|   null|  null|  null|   D-1|    푸딩 파르페| 5300| 380|\n",
      "|   null|  null|  null|   D-2|    딸기 파르페| 5200| 320|\n",
      "|  SID-0|   D-3|     1|   D-3|       판나코타| 4200| 283|\n",
      "|   null|  null|  null|   D-4|      치즈 무스| 5800| 288|\n",
      "|  SID-2|   D-5|     1|   D-5|       아포가토| 3000| 248|\n",
      "|   null|  null|  null|   D-6|       티라미스| 6000| 251|\n",
      "|   null|  null|  null|   D-7|    녹차 파르페| 4500| 380|\n",
      "|  SID-2|   D-8|     1|   D-8|  바닐라 젤라또| 3600| 131|\n",
      "|   null|  null|  null|   D-9|  카라멜 팬케익| 3900| 440|\n",
      "|  SID-1|  D-10|     4|  D-10|    크림 안미츠| 5000| 250|\n",
      "|   null|  null|  null|  D-11|  고구마 파르페| 6500| 650|\n",
      "|   null|  null|  null|  D-12|      녹차 빙수| 3800| 320|\n",
      "|   null|  null|  null|  D-13|  초코 크레이프| 3700| 300|\n",
      "|   null|  null|  null|  D-14|바나나 크레이프| 3300| 220|\n",
      "|   null|  null|  null|  D-15|  커스터드 푸딩| 2000| 120|\n",
      "|   null|  null|  null|  D-16|    초코 토르테| 3300| 220|\n",
      "|   null|  null|  null|  D-17|    치즈 수플레| 2200| 160|\n",
      "|   null|  null|  null|  D-18|    호박 타르트| 3400| 230|\n",
      "|   null|  null|  null|  D-19|      캬라멜 롤| 3700| 230|\n",
      "+-------+------+------+------+---------------+-----+----+\n",
      "only showing top 20 rows\n",
      "\n"
     ]
    }
   ],
   "source": [
    "dessertOrderDF.join(dessertMenuDF, dessertMenuDF.menuId == dessertOrderDF.menuId, \"right_outer\").show()"
   ]
  },
  {
   "cell_type": "code",
   "execution_count": 20,
   "id": "84f68a01",
   "metadata": {},
   "outputs": [
    {
     "name": "stdout",
     "output_type": "stream",
     "text": [
      "+-------+---------------------+\n",
      "|orderId|sum((number * price))|\n",
      "+-------+---------------------+\n",
      "|  SID-0|                14000|\n",
      "|  SID-1|                20000|\n",
      "|  SID-2|                10600|\n",
      "+-------+---------------------+\n",
      "\n"
     ]
    }
   ],
   "source": [
    "dessertOrderDF.join(dessertMenuDF, dessertMenuDF.menuId == dessertOrderDF.menuId)  \\\n",
    ".groupBy(dessertOrderDF.orderId)  \\\n",
    ".agg(F.sum(dessertOrderDF.number * dessertMenuDF.price))  \\\n",
    ".orderBy(dessertOrderDF.orderId)  \\\n",
    ".show()"
   ]
  },
  {
   "cell_type": "code",
   "execution_count": 21,
   "id": "c5f1c858",
   "metadata": {},
   "outputs": [
    {
     "name": "stdout",
     "output_type": "stream",
     "text": [
      "+---------------------+\n",
      "|sum((number * price))|\n",
      "+---------------------+\n",
      "|                44600|\n",
      "+---------------------+\n",
      "\n"
     ]
    }
   ],
   "source": [
    "dessertOrderDF.join(dessertMenuDF, dessertMenuDF.menuId == dessertOrderDF.menuId)  \\\n",
    ".agg(F.sum(dessertOrderDF.number * dessertMenuDF.price))  \\\n",
    ".show()"
   ]
  },
  {
   "cell_type": "code",
   "execution_count": 22,
   "id": "7eac3d74",
   "metadata": {},
   "outputs": [
    {
     "name": "stdout",
     "output_type": "stream",
     "text": [
      "+------+---------------+\n",
      "|menuId|           name|\n",
      "+------+---------------+\n",
      "|   D-2|    딸기 파르페|\n",
      "|  D-13|  초코 크레이프|\n",
      "|  D-21|      애플 파이|\n",
      "|  D-14|바나나 크레이프|\n",
      "|   D-4|      치즈 무스|\n",
      "|  D-15|  커스터드 푸딩|\n",
      "|   D-9|  카라멜 팬케익|\n",
      "|  D-17|    치즈 수플레|\n",
      "|  D-11|  고구마 파르페|\n",
      "|   D-7|    녹차 파르페|\n",
      "|  D-18|    호박 타르트|\n",
      "|  D-12|      녹차 빙수|\n",
      "|   D-6|       티라미스|\n",
      "|  D-22|         몽블랑|\n",
      "|  D-19|      캬라멜 롤|\n",
      "|   D-1|    푸딩 파르페|\n",
      "|  D-16|    초코 토르테|\n",
      "+------+---------------+\n",
      "\n"
     ]
    }
   ],
   "source": [
    "dessertOrderDF.join(dessertMenuDF, dessertMenuDF.menuId == dessertOrderDF.menuId, \"outer\")  \\\n",
    ".filter(dessertOrderDF.orderId.isNull())  \\\n",
    ".select(dessertMenuDF.menuId, dessertMenuDF.name)  \\\n",
    ".orderBy(dessertOrderDF.menuId)  \\\n",
    ".show()"
   ]
  },
  {
   "cell_type": "code",
   "execution_count": 23,
   "id": "fe51963c",
   "metadata": {},
   "outputs": [
    {
     "name": "stdout",
     "output_type": "stream",
     "text": [
      "+------+---------------+\n",
      "|menuId|           name|\n",
      "+------+---------------+\n",
      "|   D-2|    딸기 파르페|\n",
      "|  D-13|  초코 크레이프|\n",
      "|  D-21|      애플 파이|\n",
      "|  D-14|바나나 크레이프|\n",
      "|   D-4|      치즈 무스|\n",
      "|  D-15|  커스터드 푸딩|\n",
      "|   D-9|  카라멜 팬케익|\n",
      "|  D-17|    치즈 수플레|\n",
      "|  D-11|  고구마 파르페|\n",
      "|   D-7|    녹차 파르페|\n",
      "|  D-18|    호박 타르트|\n",
      "|  D-12|      녹차 빙수|\n",
      "|   D-6|       티라미스|\n",
      "|  D-22|         몽블랑|\n",
      "|  D-19|      캬라멜 롤|\n",
      "|   D-1|    푸딩 파르페|\n",
      "|  D-16|    초코 토르테|\n",
      "+------+---------------+\n",
      "\n"
     ]
    }
   ],
   "source": [
    "dessertOrderDF.join(dessertMenuDF, dessertMenuDF.menuId == dessertOrderDF.menuId, \"outer\")  \\\n",
    ".filter(F.col(\"orderId\").isNull())  \\\n",
    ".select(dessertMenuDF.menuId, dessertMenuDF.name)  \\\n",
    ".orderBy(dessertOrderDF.menuId)  \\\n",
    ".show()"
   ]
  },
  {
   "cell_type": "code",
   "execution_count": 24,
   "id": "815a3e0b",
   "metadata": {},
   "outputs": [
    {
     "name": "stdout",
     "output_type": "stream",
     "text": [
      "+------+-------------+\n",
      "|menuId|         name|\n",
      "+------+-------------+\n",
      "|   D-0|초콜릿 파르페|\n",
      "|   D-3|     판나코타|\n",
      "+------+-------------+\n",
      "\n"
     ]
    }
   ],
   "source": [
    "dessertOrderDF.join(dessertMenuDF, dessertMenuDF.menuId == dessertOrderDF.menuId, \"outer\")  \\\n",
    ".where(\"\"\" orderId = \"SID-0\" \"\"\")  \\\n",
    ".select(dessertMenuDF.menuId, dessertMenuDF.name)  \\\n",
    ".orderBy(dessertOrderDF.menuId)  \\\n",
    ".show()"
   ]
  },
  {
   "cell_type": "code",
   "execution_count": 25,
   "id": "cdaadd59",
   "metadata": {},
   "outputs": [
    {
     "name": "stdout",
     "output_type": "stream",
     "text": [
      "+------+---------+\n",
      "|menuId|numberSum|\n",
      "+------+---------+\n",
      "|   D-2|     null|\n",
      "|  D-13|     null|\n",
      "|  D-21|     null|\n",
      "|  D-14|     null|\n",
      "|   D-4|     null|\n",
      "|  D-15|     null|\n",
      "|   D-9|     null|\n",
      "|  D-17|     null|\n",
      "|  D-11|     null|\n",
      "|   D-7|     null|\n",
      "|  D-18|     null|\n",
      "|  D-12|     null|\n",
      "|   D-6|     null|\n",
      "|  D-22|     null|\n",
      "|  D-19|     null|\n",
      "|   D-1|     null|\n",
      "|  D-16|     null|\n",
      "+------+---------+\n",
      "\n"
     ]
    }
   ],
   "source": [
    "dessertOrderDF.join(dessertMenuDF, dessertOrderDF.menuId == dessertMenuDF.menuId, \"right_outer\") \\\n",
    ".groupby(dessertMenuDF.menuId) \\\n",
    ".agg(F.sum(dessertOrderDF.number).alias(\"numberSum\")) \\\n",
    ".filter(F.col(\"numberSum\").isNull()) \\\n",
    ".show()"
   ]
  },
  {
   "cell_type": "code",
   "execution_count": 26,
   "id": "8f54755a",
   "metadata": {},
   "outputs": [
    {
     "name": "stdout",
     "output_type": "stream",
     "text": [
      "+------+---------+\n",
      "|menuId|numberSum|\n",
      "+------+---------+\n",
      "|   D-3|        1|\n",
      "|   D-5|        1|\n",
      "|  D-20|        1|\n",
      "|   D-8|        1|\n",
      "|   D-0|        2|\n",
      "+------+---------+\n",
      "\n"
     ]
    }
   ],
   "source": [
    "dessertOrderDF.join(dessertMenuDF, dessertOrderDF.menuId == dessertMenuDF.menuId, \"right_outer\") \\\n",
    ".groupby(dessertMenuDF.menuId) \\\n",
    ".agg(F.sum(dessertOrderDF.number).alias(\"numberSum\")) \\\n",
    ".filter(F.col(\"numberSum\") < 3) \\\n",
    ".show()"
   ]
  },
  {
   "cell_type": "code",
   "execution_count": 27,
   "id": "76549270",
   "metadata": {},
   "outputs": [],
   "source": [
    "nullMenuDF = dessertOrderDF.join(dessertMenuDF, dessertOrderDF.menuId == dessertMenuDF.menuId, \"right_outer\") \\\n",
    ".groupby(dessertMenuDF.menuId) \\\n",
    ".agg(F.sum(dessertOrderDF.number).alias(\"numberSum\")) \\\n",
    ".filter(F.col(\"numberSum\").isNull())"
   ]
  },
  {
   "cell_type": "code",
   "execution_count": 28,
   "id": "f9b68f99",
   "metadata": {},
   "outputs": [],
   "source": [
    "lessThan3DF = dessertOrderDF.join(dessertMenuDF, dessertOrderDF.menuId == dessertMenuDF.menuId, \"right_outer\") \\\n",
    ".groupby(dessertMenuDF.menuId) \\\n",
    ".agg(F.sum(dessertOrderDF.number).alias(\"numberSum\")) \\\n",
    ".filter(F.col(\"numberSum\") < 3)"
   ]
  },
  {
   "cell_type": "code",
   "execution_count": 29,
   "id": "a6dad367",
   "metadata": {},
   "outputs": [
    {
     "name": "stdout",
     "output_type": "stream",
     "text": [
      "+------+---------+\n",
      "|menuId|numberSum|\n",
      "+------+---------+\n",
      "|   D-2|     null|\n",
      "|  D-13|     null|\n",
      "|  D-21|     null|\n",
      "|  D-14|     null|\n",
      "|   D-4|     null|\n",
      "|  D-15|     null|\n",
      "|   D-9|     null|\n",
      "|  D-17|     null|\n",
      "|  D-11|     null|\n",
      "|   D-7|     null|\n",
      "|  D-18|     null|\n",
      "|  D-12|     null|\n",
      "|   D-6|     null|\n",
      "|  D-22|     null|\n",
      "|  D-19|     null|\n",
      "|   D-1|     null|\n",
      "|  D-16|     null|\n",
      "|   D-3|        1|\n",
      "|   D-5|        1|\n",
      "|  D-20|        1|\n",
      "+------+---------+\n",
      "only showing top 20 rows\n",
      "\n"
     ]
    }
   ],
   "source": [
    "nullMenuDF.union(lessThan3DF).show()"
   ]
  },
  {
   "cell_type": "code",
   "execution_count": 30,
   "id": "0885b495",
   "metadata": {},
   "outputs": [],
   "source": [
    "d0DF = dessertOrderDF.where(\"\"\" menuId = \"D-0\" \"\"\")"
   ]
  },
  {
   "cell_type": "code",
   "execution_count": 31,
   "id": "76a32a0c",
   "metadata": {},
   "outputs": [
    {
     "name": "stdout",
     "output_type": "stream",
     "text": [
      "+-------+------+------+\n",
      "|orderId|menuId|number|\n",
      "+-------+------+------+\n",
      "|  SID-0|   D-0|     2|\n",
      "+-------+------+------+\n",
      "\n"
     ]
    }
   ],
   "source": [
    "d0DF.show()"
   ]
  },
  {
   "cell_type": "code",
   "execution_count": 32,
   "id": "6f66d257",
   "metadata": {},
   "outputs": [],
   "source": [
    "d10DF = dessertOrderDF.where(\"\"\" menuId = \"D-10\" \"\"\")"
   ]
  },
  {
   "cell_type": "code",
   "execution_count": 33,
   "id": "67b23744",
   "metadata": {},
   "outputs": [
    {
     "name": "stdout",
     "output_type": "stream",
     "text": [
      "+-------+------+------+\n",
      "|orderId|menuId|number|\n",
      "+-------+------+------+\n",
      "|  SID-1|  D-10|     4|\n",
      "+-------+------+------+\n",
      "\n"
     ]
    }
   ],
   "source": [
    "d10DF.show()"
   ]
  },
  {
   "cell_type": "code",
   "execution_count": 34,
   "id": "d3f1f0d9",
   "metadata": {},
   "outputs": [
    {
     "name": "stdout",
     "output_type": "stream",
     "text": [
      "+-------+------+------+\n",
      "|orderId|menuId|number|\n",
      "+-------+------+------+\n",
      "|  SID-1|  D-10|     4|\n",
      "|  SID-0|   D-0|     2|\n",
      "+-------+------+------+\n",
      "\n"
     ]
    }
   ],
   "source": [
    "d0DF.union(d10DF).distinct().show()"
   ]
  },
  {
   "cell_type": "code",
   "execution_count": 35,
   "id": "80ef5251",
   "metadata": {},
   "outputs": [
    {
     "name": "stdout",
     "output_type": "stream",
     "text": [
      "+-------+------+------+\n",
      "|orderId|menuId|number|\n",
      "+-------+------+------+\n",
      "|  SID-1|  D-10|     4|\n",
      "|  SID-0|   D-0|     2|\n",
      "+-------+------+------+\n",
      "\n"
     ]
    }
   ],
   "source": [
    "dessertOrderDF.where(\"\"\" menuId = \"D-0\" OR menuId = \"D-10\" \"\"\").distinct().show()"
   ]
  },
  {
   "cell_type": "code",
   "execution_count": 36,
   "id": "2e33e4e8",
   "metadata": {},
   "outputs": [],
   "source": [
    "dessertMenuDF2 = dessertMenuDF.withColumn(\"priceLevel\", F.col(\"price\") - F.col(\"price\") % 1000)"
   ]
  },
  {
   "cell_type": "code",
   "execution_count": 37,
   "id": "f93b0716",
   "metadata": {},
   "outputs": [
    {
     "name": "stdout",
     "output_type": "stream",
     "text": [
      "+------+---------------+-----+----+----------+\n",
      "|menuId|           name|price|kcal|priceLevel|\n",
      "+------+---------------+-----+----+----------+\n",
      "|   D-0|  초콜릿 파르페| 4900| 420|      4000|\n",
      "|   D-1|    푸딩 파르페| 5300| 380|      5000|\n",
      "|   D-2|    딸기 파르페| 5200| 320|      5000|\n",
      "|   D-3|       판나코타| 4200| 283|      4000|\n",
      "|   D-4|      치즈 무스| 5800| 288|      5000|\n",
      "|   D-5|       아포가토| 3000| 248|      3000|\n",
      "|   D-6|       티라미스| 6000| 251|      6000|\n",
      "|   D-7|    녹차 파르페| 4500| 380|      4000|\n",
      "|   D-8|  바닐라 젤라또| 3600| 131|      3000|\n",
      "|   D-9|  카라멜 팬케익| 3900| 440|      3000|\n",
      "|  D-10|    크림 안미츠| 5000| 250|      5000|\n",
      "|  D-11|  고구마 파르페| 6500| 650|      6000|\n",
      "|  D-12|      녹차 빙수| 3800| 320|      3000|\n",
      "|  D-13|  초코 크레이프| 3700| 300|      3000|\n",
      "|  D-14|바나나 크레이프| 3300| 220|      3000|\n",
      "|  D-15|  커스터드 푸딩| 2000| 120|      2000|\n",
      "|  D-16|    초코 토르테| 3300| 220|      3000|\n",
      "|  D-17|    치즈 수플레| 2200| 160|      2000|\n",
      "|  D-18|    호박 타르트| 3400| 230|      3000|\n",
      "|  D-19|      캬라멜 롤| 3700| 230|      3000|\n",
      "+------+---------------+-----+----+----------+\n",
      "only showing top 20 rows\n",
      "\n"
     ]
    }
   ],
   "source": [
    "dessertMenuDF2.show()"
   ]
  },
  {
   "cell_type": "code",
   "execution_count": 38,
   "id": "bd78b157",
   "metadata": {},
   "outputs": [
    {
     "name": "stdout",
     "output_type": "stream",
     "text": [
      "+----------+---------------------+\n",
      "|priceLevel|sum((number * price))|\n",
      "+----------+---------------------+\n",
      "|      3000|                 6600|\n",
      "|      4000|                18000|\n",
      "|      5000|                20000|\n",
      "+----------+---------------------+\n",
      "\n"
     ]
    }
   ],
   "source": [
    "dessertMenuDF2.join(dessertOrderDF, dessertMenuDF2.menuId == dessertOrderDF.menuId ) \\\n",
    ".groupBy(dessertMenuDF2.priceLevel) \\\n",
    ".agg(F.sum(dessertOrderDF.number * dessertMenuDF2.price)) \\\n",
    ".show()"
   ]
  },
  {
   "cell_type": "code",
   "execution_count": 39,
   "id": "0d5483de",
   "metadata": {},
   "outputs": [],
   "source": [
    "dessertMenuDF.createOrReplaceTempView(\"Menu\")"
   ]
  },
  {
   "cell_type": "code",
   "execution_count": 40,
   "id": "fa577e27",
   "metadata": {},
   "outputs": [],
   "source": [
    "dessertOrderDF.createOrReplaceTempView(\"Order\")"
   ]
  },
  {
   "cell_type": "code",
   "execution_count": 41,
   "id": "486433a1",
   "metadata": {},
   "outputs": [],
   "source": [
    "joinDF = spark.sql(\"\"\"   SELECT Menu.menuId, Menu.price, Menu.kcal, Order.*\n",
    "                FROM Menu join Order ON (Menu.menuId = Order.menuId)\n",
    "          \"\"\")"
   ]
  },
  {
   "cell_type": "code",
   "execution_count": 42,
   "id": "728c657f",
   "metadata": {},
   "outputs": [
    {
     "name": "stdout",
     "output_type": "stream",
     "text": [
      "+------+-----+----+-------+------+------+\n",
      "|menuId|price|kcal|orderId|menuId|number|\n",
      "+------+-----+----+-------+------+------+\n",
      "|   D-0| 4900| 420|  SID-0|   D-0|     2|\n",
      "|   D-3| 4200| 283|  SID-0|   D-3|     1|\n",
      "|   D-5| 3000| 248|  SID-2|   D-5|     1|\n",
      "|   D-8| 3600| 131|  SID-2|   D-8|     1|\n",
      "|  D-10| 5000| 250|  SID-1|  D-10|     4|\n",
      "|  D-20| 4000| 230|  SID-2|  D-20|     1|\n",
      "+------+-----+----+-------+------+------+\n",
      "\n"
     ]
    }
   ],
   "source": [
    "joinDF.show()"
   ]
  },
  {
   "cell_type": "code",
   "execution_count": 44,
   "id": "4194422b",
   "metadata": {},
   "outputs": [
    {
     "name": "stdout",
     "output_type": "stream",
     "text": [
      "+------+-------+\n",
      "|menuId|menuQty|\n",
      "+------+-------+\n",
      "|   D-3|      1|\n",
      "|   D-5|      1|\n",
      "|  D-20|      1|\n",
      "|   D-8|      1|\n",
      "|   D-0|      2|\n",
      "+------+-------+\n",
      "\n"
     ]
    }
   ],
   "source": [
    "spark.sql(\"\"\" SELECT Menu.menuId, sum(Order.number) as menuQty\n",
    "              FROM Menu full outer join Order ON (Menu.menuId = Order.menuId)\n",
    "              GROUP BY Menu.menuId\n",
    "              HAVING menuQty < 3\n",
    "          \"\"\").show()"
   ]
  },
  {
   "cell_type": "code",
   "execution_count": 46,
   "id": "0ea73639",
   "metadata": {},
   "outputs": [
    {
     "name": "stdout",
     "output_type": "stream",
     "text": [
      "+------+---------------+\n",
      "|menuId|           name|\n",
      "+------+---------------+\n",
      "|   D-2|    딸기 파르페|\n",
      "|  D-13|  초코 크레이프|\n",
      "|  D-21|      애플 파이|\n",
      "|  D-14|바나나 크레이프|\n",
      "|   D-4|      치즈 무스|\n",
      "|  D-15|  커스터드 푸딩|\n",
      "|   D-9|  카라멜 팬케익|\n",
      "|  D-17|    치즈 수플레|\n",
      "|  D-11|  고구마 파르페|\n",
      "|   D-7|    녹차 파르페|\n",
      "|  D-18|    호박 타르트|\n",
      "|  D-12|      녹차 빙수|\n",
      "|   D-6|       티라미스|\n",
      "|  D-22|         몽블랑|\n",
      "|  D-19|      캬라멜 롤|\n",
      "|   D-1|    푸딩 파르페|\n",
      "|  D-16|    초코 토르테|\n",
      "+------+---------------+\n",
      "\n"
     ]
    }
   ],
   "source": [
    "spark.sql(\"\"\" SELECT Menu.menuId, Menu.name\n",
    "              FROM Menu full outer join Order ON (Menu.menuId = Order.menuId)\n",
    "              WHERE Order.orderId IS NULL\n",
    "              \"\"\").show()"
   ]
  },
  {
   "cell_type": "code",
   "execution_count": 49,
   "id": "6751601d",
   "metadata": {},
   "outputs": [
    {
     "name": "stdout",
     "output_type": "stream",
     "text": [
      "+------+-------+\n",
      "|menuId|menuQty|\n",
      "+------+-------+\n",
      "|   D-2|   null|\n",
      "|  D-13|   null|\n",
      "|  D-21|   null|\n",
      "|   D-0|      2|\n",
      "|   D-8|      1|\n",
      "|   D-3|      1|\n",
      "|  D-14|   null|\n",
      "|   D-4|   null|\n",
      "|  D-15|   null|\n",
      "|   D-9|   null|\n",
      "|  D-17|   null|\n",
      "|  D-11|   null|\n",
      "|   D-7|   null|\n",
      "|  D-18|   null|\n",
      "|   D-5|      1|\n",
      "|  D-12|   null|\n",
      "|   D-6|   null|\n",
      "|  D-22|   null|\n",
      "|  D-19|   null|\n",
      "|  D-20|      1|\n",
      "+------+-------+\n",
      "only showing top 20 rows\n",
      "\n"
     ]
    }
   ],
   "source": [
    "spark.sql(\"\"\" (SELECT Menu.menuId, sum(Order.number) as menuQty\n",
    "              FROM Menu full outer join Order ON (Menu.menuId = Order.menuId)\n",
    "              GROUP BY Menu.menuId\n",
    "              HAVING menuQty < 3)\n",
    "              UNION\n",
    "              (SELECT Menu.menuId, Order.number\n",
    "              FROM Menu full outer join Order ON (Menu.menuId = Order.menuId)\n",
    "              WHERE Order.orderId IS NULL)\n",
    "          \"\"\").show()"
   ]
  },
  {
   "cell_type": "code",
   "execution_count": 55,
   "id": "0b6bb06f",
   "metadata": {},
   "outputs": [],
   "source": [
    "more3DF = spark.sql(\"\"\"SELECT t.menuId\n",
    "                       FROM (SELECT Menu.menuId, sum(Order.number) as menuQty\n",
    "                       FROM Menu full outer join Order ON (Menu.menuId = Order.menuId)\n",
    "                       GROUP BY Menu.menuId\n",
    "                       HAVING menuQty >= 3) as t\n",
    "                    \"\"\")"
   ]
  },
  {
   "cell_type": "code",
   "execution_count": 56,
   "id": "a24a7b1a",
   "metadata": {},
   "outputs": [],
   "source": [
    "more3DF.createOrReplaceTempView(\"Menu3\")"
   ]
  },
  {
   "cell_type": "code",
   "execution_count": 58,
   "id": "68ee5956",
   "metadata": {},
   "outputs": [
    {
     "name": "stdout",
     "output_type": "stream",
     "text": [
      "+------+\n",
      "|menuId|\n",
      "+------+\n",
      "|  D-10|\n",
      "+------+\n",
      "\n"
     ]
    }
   ],
   "source": [
    "spark.sql(\"\"\" SELECT *\n",
    "              FROM Menu3 \"\"\").show()"
   ]
  },
  {
   "cell_type": "code",
   "execution_count": 59,
   "id": "ffe1fc96",
   "metadata": {},
   "outputs": [
    {
     "name": "stdout",
     "output_type": "stream",
     "text": [
      "+------+\n",
      "|menuId|\n",
      "+------+\n",
      "|   D-2|\n",
      "|  D-13|\n",
      "|  D-21|\n",
      "|   D-3|\n",
      "|  D-14|\n",
      "|   D-5|\n",
      "|   D-4|\n",
      "|  D-15|\n",
      "|   D-9|\n",
      "|  D-17|\n",
      "|  D-11|\n",
      "|   D-7|\n",
      "|  D-18|\n",
      "|  D-12|\n",
      "|   D-6|\n",
      "|  D-22|\n",
      "|  D-20|\n",
      "|   D-8|\n",
      "|  D-19|\n",
      "|   D-0|\n",
      "+------+\n",
      "only showing top 20 rows\n",
      "\n"
     ]
    }
   ],
   "source": [
    "spark.sql(\"\"\"     (SELECT menuId\n",
    "                   FROM Menu)\n",
    "                   MINUS\n",
    "                  (SELECT t.menuId\n",
    "                   FROM (SELECT Menu.menuId, sum(Order.number) as menuQty\n",
    "                       FROM Menu full outer join Order ON (Menu.menuId = Order.menuId)\n",
    "                       GROUP BY Menu.menuId\n",
    "                       HAVING menuQty >= 3) as t)\n",
    "               \"\"\").show()"
   ]
  },
  {
   "cell_type": "code",
   "execution_count": 51,
   "id": "df57826b",
   "metadata": {},
   "outputs": [
    {
     "name": "stdout",
     "output_type": "stream",
     "text": [
      "+------+\n",
      "|menuId|\n",
      "+------+\n",
      "|   D-0|\n",
      "|   D-1|\n",
      "|   D-2|\n",
      "|   D-3|\n",
      "|   D-4|\n",
      "|   D-5|\n",
      "|   D-6|\n",
      "|   D-7|\n",
      "|   D-8|\n",
      "|   D-9|\n",
      "|  D-10|\n",
      "|  D-11|\n",
      "|  D-12|\n",
      "|  D-13|\n",
      "|  D-14|\n",
      "|  D-15|\n",
      "|  D-16|\n",
      "|  D-17|\n",
      "|  D-18|\n",
      "|  D-19|\n",
      "+------+\n",
      "only showing top 20 rows\n",
      "\n"
     ]
    }
   ],
   "source": [
    "spark.sql(\"\"\" SELECT menuId\n",
    "              FROM Menu \"\"\").show()"
   ]
  },
  {
   "cell_type": "code",
   "execution_count": 63,
   "id": "7c9be5ca",
   "metadata": {},
   "outputs": [
    {
     "name": "stdout",
     "output_type": "stream",
     "text": [
      "+-------+\n",
      "|orderId|\n",
      "+-------+\n",
      "|  SID-0|\n",
      "|  SID-1|\n",
      "+-------+\n",
      "\n"
     ]
    }
   ],
   "source": [
    "spark.sql(\"\"\"SELECT orderId\n",
    "             FROM Order\n",
    "             WHERE menuId = \"D-10\"\n",
    "             OR menuId = \"D-0\"\n",
    "\"\"\").show()"
   ]
  },
  {
   "cell_type": "code",
   "execution_count": 64,
   "id": "15d2d4ed",
   "metadata": {},
   "outputs": [
    {
     "name": "stdout",
     "output_type": "stream",
     "text": [
      "+-------+\n",
      "|orderId|\n",
      "+-------+\n",
      "|  SID-0|\n",
      "+-------+\n",
      "\n"
     ]
    }
   ],
   "source": [
    "spark.sql(\"\"\"(SELECT orderId\n",
    "              FROM Order\n",
    "              WHERE menuId = \"D-0\")\n",
    "              INTERSECT\n",
    "              (SELECT orderId\n",
    "              FROM Order\n",
    "              WHERE menuId = \"D-3\")\n",
    "              \"\"\").show()"
   ]
  },
  {
   "cell_type": "code",
   "execution_count": 66,
   "id": "403c5111",
   "metadata": {},
   "outputs": [
    {
     "name": "stdout",
     "output_type": "stream",
     "text": [
      "+------+---------------+-----+----+----------+\n",
      "|menuId|           name|price|kcal|priceLevel|\n",
      "+------+---------------+-----+----+----------+\n",
      "|   D-0|  초콜릿 파르페| 4900| 420|      4000|\n",
      "|   D-1|    푸딩 파르페| 5300| 380|      5000|\n",
      "|   D-2|    딸기 파르페| 5200| 320|      5000|\n",
      "|   D-3|       판나코타| 4200| 283|      4000|\n",
      "|   D-4|      치즈 무스| 5800| 288|      5000|\n",
      "|   D-5|       아포가토| 3000| 248|      3000|\n",
      "|   D-6|       티라미스| 6000| 251|      6000|\n",
      "|   D-7|    녹차 파르페| 4500| 380|      4000|\n",
      "|   D-8|  바닐라 젤라또| 3600| 131|      3000|\n",
      "|   D-9|  카라멜 팬케익| 3900| 440|      3000|\n",
      "|  D-10|    크림 안미츠| 5000| 250|      5000|\n",
      "|  D-11|  고구마 파르페| 6500| 650|      6000|\n",
      "|  D-12|      녹차 빙수| 3800| 320|      3000|\n",
      "|  D-13|  초코 크레이프| 3700| 300|      3000|\n",
      "|  D-14|바나나 크레이프| 3300| 220|      3000|\n",
      "|  D-15|  커스터드 푸딩| 2000| 120|      2000|\n",
      "|  D-16|    초코 토르테| 3300| 220|      3000|\n",
      "|  D-17|    치즈 수플레| 2200| 160|      2000|\n",
      "|  D-18|    호박 타르트| 3400| 230|      3000|\n",
      "|  D-19|      캬라멜 롤| 3700| 230|      3000|\n",
      "+------+---------------+-----+----+----------+\n",
      "only showing top 20 rows\n",
      "\n"
     ]
    }
   ],
   "source": [
    "spark.sql(\"\"\"\n",
    "             SELECT Menu.*, (Menu.price - (Menu.price % 1000)) AS priceLevel\n",
    "             FROM Menu\n",
    "\"\"\").show()"
   ]
  },
  {
   "cell_type": "code",
   "execution_count": 67,
   "id": "fef0fe02",
   "metadata": {},
   "outputs": [],
   "source": [
    "Menu2DF = spark.sql(\"\"\"\n",
    "             SELECT Menu.*, (Menu.price - (Menu.price % 1000)) AS priceLevel\n",
    "             FROM Menu\n",
    "\"\"\")"
   ]
  },
  {
   "cell_type": "code",
   "execution_count": 68,
   "id": "1f2172b3",
   "metadata": {},
   "outputs": [],
   "source": [
    "Menu2DF.createOrReplaceTempView(\"Menu2\")"
   ]
  },
  {
   "cell_type": "code",
   "execution_count": 76,
   "id": "abead2b2",
   "metadata": {},
   "outputs": [
    {
     "name": "stdout",
     "output_type": "stream",
     "text": [
      "+----------+-----------+\n",
      "|priceLevel|sum(number)|\n",
      "+----------+-----------+\n",
      "|      3000|          2|\n",
      "|      4000|          4|\n",
      "|      5000|          4|\n",
      "+----------+-----------+\n",
      "\n"
     ]
    }
   ],
   "source": [
    "spark.sql(\"\"\"SELECT Menu3.priceLevel, sum(Order.number)\n",
    "             FROM Order JOIN (SELECT Menu.*, (Menu.price - (Menu.price % 1000)) priceLevel\n",
    "                              FROM Menu) as Menu3\n",
    "                              ON (Order.menuId = Menu3.menuId)\n",
    "             GROUP BY Menu3.priceLevel\n",
    "          \"\"\").show()"
   ]
  }
 ],
 "metadata": {
  "kernelspec": {
   "display_name": "Python 3",
   "language": "python",
   "name": "python3"
  },
  "language_info": {
   "codemirror_mode": {
    "name": "ipython",
    "version": 3
   },
   "file_extension": ".py",
   "mimetype": "text/x-python",
   "name": "python",
   "nbconvert_exporter": "python",
   "pygments_lexer": "ipython3",
   "version": "3.8.8"
  }
 },
 "nbformat": 4,
 "nbformat_minor": 5
}
